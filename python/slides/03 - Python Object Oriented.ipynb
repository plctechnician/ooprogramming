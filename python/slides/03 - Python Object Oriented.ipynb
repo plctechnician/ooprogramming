{
 "cells": [
  {
   "cell_type": "markdown",
   "metadata": {},
   "source": [
    "# Classes"
   ]
  },
  {
   "cell_type": "markdown",
   "metadata": {},
   "source": [
    "## General concepts\n",
    "\n",
    "![alt](images/class_plato.png)\n",
    "![alt](images/class_internals.png)\n",
    "\n",
    "A *class* is a body of code that defines the *attributes* and *methods* required to model a class of objects. You can model something from the real world, such as a rocket ship or a car, or you can model something from a virtual world such as a rocket in a game, or a set of physical laws for a game engine.\n",
    "\n",
    "An *attribute* is a piece of information, a property of a class of objects. In code, an attribute is a variable defined inside a class. A *method* is an action that is defined within a class. In code, they are functions defined inside a class. \n",
    "\n",
    "An *object* is a particular instance of a class. Every object has assigns specific values to its attributes (variables). You can have as many objects as you want for any one class."
   ]
  },
  {
   "cell_type": "markdown",
   "metadata": {},
   "source": [
    "## Object references"
   ]
  },
  {
   "cell_type": "markdown",
   "metadata": {},
   "source": [
    "\n",
    "It is worth noticing that the usual *variables as boxes* metaphor actually hinders the understanding of reference variables in OO languages. Python variables are like reference variables in Java, so it’s *better to think of them as labels attached to objects* instead of boxes containing data.\n",
    "\n",
    "![alt](images/class_reference.png)"
   ]
  },
  {
   "cell_type": "markdown",
   "metadata": {},
   "source": [
    "As an example, considering *a* and *b* as two separate boxes might ostacolate the understanding of the following example. The item *4* is apparently added only to *a*. However, given the fact the *a* and *b* are only names referring to the same object, the additional element can accessed using both *a* and *b*."
   ]
  },
  {
   "cell_type": "code",
   "execution_count": 1,
   "metadata": {},
   "outputs": [
    {
     "name": "stdout",
     "output_type": "stream",
     "text": [
      "[1, 2, 3, 4]\n",
      "[1, 2, 3, 4]\n",
      "True\n"
     ]
    }
   ],
   "source": [
    "a = [1, 2, 3]\n",
    "b = a\n",
    "a.append(4)\n",
    "print(a)\n",
    "print(b)\n",
    "print(a is b)\n"
   ]
  },
  {
   "cell_type": "markdown",
   "metadata": {},
   "source": [
    "## Object identity, type, internal state"
   ]
  },
  {
   "cell_type": "markdown",
   "metadata": {},
   "source": [
    "Every object has an *identity*, a *type* and an *internal state*. An object identity is unique and never changes once it has been created. The *id()* function returns an integer representing its identity. The *type()* function provides its type (i.e., its class). The internal state is expressed by the state of internal variables. The *==* operator compares the internal state of objects (the data they hold), while the *is* operator compares their identities."
   ]
  },
  {
   "cell_type": "code",
   "execution_count": 2,
   "metadata": {},
   "outputs": [],
   "source": [
    "a = [1, 2, 3]\n",
    "b = [1, 2, 3]\n",
    "c = a"
   ]
  },
  {
   "cell_type": "markdown",
   "metadata": {},
   "source": [
    "![alt](images/objs.png)"
   ]
  },
  {
   "cell_type": "code",
   "execution_count": 3,
   "metadata": {},
   "outputs": [
    {
     "name": "stdout",
     "output_type": "stream",
     "text": [
      "id(a): 140411673935616\n",
      "id(b): 140411673927424\n",
      "id(c): 140411673935616\n",
      "type(a): <class 'list'>\n",
      "type(b): <class 'list'>\n",
      "type(c): <class 'list'>\n",
      "[1, 2, 3]\n",
      "[1, 2, 3]\n",
      "[1, 2, 3]\n"
     ]
    }
   ],
   "source": [
    "print('id(a):', id(a)) # identity\n",
    "print('id(b):', id(b))\n",
    "print('id(c):', id(c))\n",
    "\n",
    "print('type(a):', type(a)) # type\n",
    "print('type(b):', type(b))\n",
    "print('type(c):', type(c))\n",
    "\n",
    "print(a) # internal state\n",
    "print(b)\n",
    "print(c)"
   ]
  },
  {
   "cell_type": "code",
   "execution_count": 4,
   "metadata": {},
   "outputs": [
    {
     "name": "stdout",
     "output_type": "stream",
     "text": [
      "a is b: False\n",
      "a is c: True\n",
      "isinstance(a, list): True\n",
      "isinstance(b, float): False\n",
      "a == b: True\n",
      "a == c: True\n"
     ]
    }
   ],
   "source": [
    "print('a is b:', a is b) # identity comparison\n",
    "print('a is c:', a is c)\n",
    "\n",
    "print('isinstance(a, list):', isinstance(a, list)) # type comparison\n",
    "print('isinstance(b, float):', isinstance(b, float))\n",
    "\n",
    "print('a == b:', a == b) # internal state comparison\n",
    "print('a == c:', a == c)"
   ]
  },
  {
   "cell_type": "markdown",
   "metadata": {},
   "source": [
    "## Class definition\n",
    "Classes are a way of combining information and behavior. Attributes are the properties (the information part) defining any specific class of objects. They are defined inside the *\\_\\_init\\_\\_()* method of the class. \n",
    "\n",
    "Method names starting and ending with two underscores are special conventionally considered special methods. The *\\_\\_init\\_\\_()* method is one of these. It is called automatically when you create an object from your class (it's the constructor). The *\\_\\_init\\_\\_()* method lets you make sure that all relevant attributes are set to their proper values when an object is created from the class, before the object is used.\n",
    "\n",
    "The *self* keyword refers to the current object that you are working with. When you are writing a class, it lets you refer to certain attributes from any other part of the class. Basically, all methods in a class need the *self* object as their first argument, so they can access any attribute that is part of the class.\n",
    "\n",
    "To actually use a class, you have to create an *object* which is an instance of a *class*. Every object has a copy of each of the class's variables, and it can performs actions that are defined for the class (it can call class' methods). To access an object's attributes or methods, you give the name of the object and then use *dot notation*."
   ]
  },
  {
   "cell_type": "code",
   "execution_count": 5,
   "metadata": {},
   "outputs": [
    {
     "name": "stdout",
     "output_type": "stream",
     "text": [
      "Brand=Bmw, Model=M3, Speed=70\n",
      "Brand=Bmw, Model=M3, Speed=71\n",
      "Brand=Fiat, Model=Punto, Speed=110\n",
      "140411673958288 <class '__main__.Car'>\n",
      "140411673981952 <class '__main__.Car'>\n"
     ]
    }
   ],
   "source": [
    "class Car:\n",
    "    # costructor\n",
    "    def __init__(self, brand, model, speed):\n",
    "        # instance attributes\n",
    "        self.brand = brand\n",
    "        self.model = model\n",
    "        self.speed = speed\n",
    "    \n",
    "    # methods\n",
    "    def speed_up(self):\n",
    "        self.speed += 1\n",
    "        \n",
    "    def speed_down(self):\n",
    "        self.speed -= 1\n",
    "\n",
    "if __name__ == '__main__':\n",
    "    m3 = Car('Bmw', 'M3', 70)\n",
    "    print('Brand={}, Model={}, Speed={}'.format(m3.brand, m3.model, m3.speed))\n",
    "    m3.speed_up()\n",
    "    print('Brand={}, Model={}, Speed={}'.format(m3.brand, m3.model, m3.speed))\n",
    "    \n",
    "    p = Car('Fiat', 'Punto', 110)\n",
    "    print('Brand={}, Model={}, Speed={}'.format(p.brand, p.model, p.speed))\n",
    "    \n",
    "    print(id(m3), type(m3))\n",
    "    print(id(p), type(p))"
   ]
  },
  {
   "cell_type": "markdown",
   "metadata": {},
   "source": [
    "## Constructor method\n",
    "Constructors are generally used for creating (instantiating) objects. The task of constructors is to assign values to the object attributes. In Python the \\_\\_init\\_\\_ method is used as constructor and it is always called when an object is created. *Unlike Java, you cannot define multiple constructors. However, to reach the same goal, you can define default values for the parameters.*"
   ]
  },
  {
   "cell_type": "code",
   "execution_count": 6,
   "metadata": {},
   "outputs": [
    {
     "name": "stdout",
     "output_type": "stream",
     "text": [
      "Brand=Bmw, Model=M3, Speed=70\n",
      "Brand=Bmw, Model=M3, Speed=0\n"
     ]
    }
   ],
   "source": [
    "class Car:\n",
    "    # costructor\n",
    "    def __init__(self, brand, model, speed=0):\n",
    "        # instance attributes\n",
    "        self.brand = brand\n",
    "        self.model = model\n",
    "        self.speed = speed\n",
    "        \n",
    "    # methods\n",
    "    def speed_up(self):\n",
    "        self.speed += 1\n",
    "        \n",
    "    def speed_down(self):\n",
    "        self.speed -= 1\n",
    "\n",
    "if __name__ == '__main__':\n",
    "    m3 = Car('Bmw', 'M3', 70)\n",
    "    print('Brand={}, Model={}, Speed={}'.format(m3.brand, m3.model, m3.speed))\n",
    "    \n",
    "    m3 = Car('Bmw', 'M3')\n",
    "    print('Brand={}, Model={}, Speed={}'.format(m3.brand, m3.model, m3.speed))\n"
   ]
  },
  {
   "cell_type": "markdown",
   "metadata": {},
   "source": [
    "## Garbabe collector\n",
    "In addition to id, type, and internal state every Python object has a reference count. The reference count is incremented whenever the object is referenced, and it is decremented whenever an object is dereferenced. If an object’s reference count goes to 0, the memory for the object is automatically freed by the *garbage collector*."
   ]
  },
  {
   "cell_type": "code",
   "execution_count": 7,
   "metadata": {},
   "outputs": [
    {
     "name": "stdout",
     "output_type": "stream",
     "text": [
      "1\n",
      "2\n"
     ]
    }
   ],
   "source": [
    "# calls garbage collection explicitely\n",
    "import gc\n",
    "gc.collect()\n",
    "\n",
    "# counts references\n",
    "import sys\n",
    "print(sys.getrefcount([1, 2, 3]))\n",
    "\n",
    "a = [1, 2, 3]\n",
    "print(sys.getrefcount(a))"
   ]
  },
  {
   "cell_type": "markdown",
   "metadata": {},
   "source": [
    "## Destructor method\n",
    "Destructors are called when an object gets destroyed. In Python, destructors are not needed as much needed as in C++ because Python has a garbage collector that handles memory automatically. However, the *\\_\\_del\\_\\_()* method is used as a destructor method in Python. It is called when all references to the object have been deleted i.e when an object is garbage collected."
   ]
  },
  {
   "cell_type": "code",
   "execution_count": 8,
   "metadata": {},
   "outputs": [
    {
     "name": "stdout",
     "output_type": "stream",
     "text": [
      "Object destroyed!\n"
     ]
    }
   ],
   "source": [
    "class Car:\n",
    "    # costructor\n",
    "    def __init__(self, brand, model, speed=0):\n",
    "        # instance attributes\n",
    "        self.brand = brand\n",
    "        self.model = model\n",
    "        self.speed = speed\n",
    "        \n",
    "    # methods\n",
    "    def speed_up(self):\n",
    "        self.speed += 1\n",
    "        \n",
    "    def speed_down(self):\n",
    "        self.speed -= 1\n",
    "\n",
    "    # destructor\n",
    "    def __del__(self):\n",
    "        print('Object destroyed!')\n",
    "\n",
    "\n",
    "if __name__ == '__main__':\n",
    "    m3 = Car('Bmw', 'M3')\n",
    "    del m3\n"
   ]
  },
  {
   "cell_type": "markdown",
   "metadata": {},
   "source": [
    "## Class attributes\n",
    "*Outside the \\_\\_init\\_\\_() method we can define class attributes*. We can access the class attributes using *\\_\\_class\\_\\_.attribute*. Class attributes are shared among all objects which are instances of the same class. "
   ]
  },
  {
   "cell_type": "code",
   "execution_count": 9,
   "metadata": {},
   "outputs": [
    {
     "name": "stdout",
     "output_type": "stream",
     "text": [
      "Brand=Bmw, Model=M3, Wheels=4\n",
      "Brand=Tesla, Model=Models S, Wheels=4\n",
      "Brand=Bmw, Model=M3, Wheels=2\n",
      "Brand=Tesla, Model=Models S, Wheels=2\n"
     ]
    }
   ],
   "source": [
    "class Car:\n",
    "    # class attribute\n",
    "    wheels = 4\n",
    "    \n",
    "    # costructor\n",
    "    def __init__(self, brand, model, speed=0):\n",
    "        # instance attributes\n",
    "        self.brand = brand\n",
    "        self.model = model\n",
    "        self.speed = speed\n",
    "\n",
    "if __name__ == '__main__':\n",
    "    m3 = Car('Bmw', 'M3')\n",
    "    tsla = Car('Tesla', 'Models S')\n",
    "    \n",
    "    print('Brand={}, Model={}, Wheels={}'.format(m3.brand, m3.model, m3.__class__.wheels))\n",
    "    print('Brand={}, Model={}, Wheels={}'.format(tsla.brand, tsla.model, tsla.__class__.wheels))\n",
    "\n",
    "    m3.__class__.wheels = 2\n",
    "    \n",
    "    print('Brand={}, Model={}, Wheels={}'.format(m3.brand, m3.model, m3.__class__.wheels))\n",
    "    print('Brand={}, Model={}, Wheels={}'.format(tsla.brand, tsla.model, tsla.__class__.wheels))"
   ]
  },
  {
   "cell_type": "markdown",
   "metadata": {},
   "source": [
    "## Class methods\n",
    "\n",
    "A class method is a method which is bound to the class and not the object of the class. Class methods have to be annotated with either the *@staticmethod* or *@classmethod* tags.\n",
    "\n",
    "Methods annotated with *@staticmethod* can’t access or modify the class state (i.e., class attributes). They are present in a class because it makes sense for these methods to be present in class but do not actually interact with the class. This annotation is generally used to create utility functions."
   ]
  },
  {
   "cell_type": "code",
   "execution_count": 10,
   "metadata": {},
   "outputs": [
    {
     "name": "stdout",
     "output_type": "stream",
     "text": [
      "True\n"
     ]
    }
   ],
   "source": [
    "class Car:\n",
    "    def __init__(self, brand, model, speed=0):\n",
    "        self.brand = brand\n",
    "        self.model = model\n",
    "        self.speed = speed\n",
    "\n",
    "    @staticmethod\n",
    "    def within_limits(speed, maxspeed):\n",
    "        return speed < maxspeed\n",
    "\n",
    "if __name__ == '__main__':\n",
    "    m3 = Car('Bmw', 'M3')\n",
    "    print(Car.within_limits(75, 90))"
   ]
  },
  {
   "cell_type": "markdown",
   "metadata": {},
   "source": [
    "Methods annotated with *@classmethod* have the access to the state of the class as they take a class parameter that points to the class and not the object instance. They can modify a class state that would apply across all the instances of the class. Generally used to create *factory methods*. Factory methods return brand new objects (similarly to a constructors)."
   ]
  },
  {
   "cell_type": "code",
   "execution_count": 11,
   "metadata": {},
   "outputs": [
    {
     "name": "stdout",
     "output_type": "stream",
     "text": [
      "Brand=BMW, Model=M3, Speed=120\n",
      "\n"
     ]
    }
   ],
   "source": [
    "class Car:\n",
    "    def __init__(self, brand, model, speed=0):\n",
    "        self.brand = brand\n",
    "        self.model = model\n",
    "        self.speed = speed\n",
    "\n",
    "    @classmethod\n",
    "    def from_file(cls, file):\n",
    "        brand, model, speed = file.readline().split(', ')\n",
    "        return cls(brand, model, speed)\n",
    "\n",
    "if __name__ == '__main__':\n",
    "    with open('resources/cars.txt', 'r') as input_file:\n",
    "        c = Car.from_file(input_file)\n",
    "        print('Brand={}, Model={}, Speed={}'.format(c.brand, c.model, c.speed))\n"
   ]
  },
  {
   "cell_type": "markdown",
   "metadata": {},
   "source": [
    "## String representations\n",
    "*\\_\\_repr\\_\\_()*, and *\\_\\_str\\_\\_()* return a string representation of the object. If *\\_\\_repr\\_\\_()* is defined, and *\\_\\_str\\_\\_()* is not, the object will behave as though *\\_\\_str\\_\\_()*=\\_*\\_\\_repr\\_\\_()*. This means that almost every object you implement should have a functional *\\_\\_repr\\_\\_()* method that's usable for understanding the object. \n",
    "\n",
    "Implementing *\\_\\_str\\_\\_()* is optional: do that if you need a \"pretty print\" functionality (for example, used by a report generator). *\\_\\_repr\\_\\_()* in internally called by the *repr()* built-in function."
   ]
  },
  {
   "cell_type": "code",
   "execution_count": 12,
   "metadata": {},
   "outputs": [
    {
     "name": "stdout",
     "output_type": "stream",
     "text": [
      "Brand=Bmw, Model=M3, Speed=120\n",
      "Brand=Bmw, Model=M3, Speed=120\n"
     ]
    }
   ],
   "source": [
    "class Car:\n",
    "    def __init__(self, brand, model, speed=0):\n",
    "        self.brand = brand\n",
    "        self.model = model\n",
    "        self.speed = speed\n",
    "\n",
    "    def __repr__(self):\n",
    "        return 'Brand={}, Model={}, Speed={}'.format(self.brand, self.model, self.speed)\n",
    "\n",
    "if __name__ == '__main__':\n",
    "    m3 = Car('Bmw', 'M3', 120)\n",
    "    print(m3)\n",
    "    print(repr(m3))"
   ]
  },
  {
   "cell_type": "code",
   "execution_count": 13,
   "metadata": {},
   "outputs": [
    {
     "name": "stdout",
     "output_type": "stream",
     "text": [
      "This is a Bmw model M3 going at 120km/h.\n",
      "Brand=Bmw, Model=M3, Speed=120\n"
     ]
    }
   ],
   "source": [
    "class Car:\n",
    "    def __init__(self, brand, model, speed=0):\n",
    "        self.brand = brand\n",
    "        self.model = model\n",
    "        self.speed = speed\n",
    "\n",
    "    def __repr__(self):\n",
    "        return 'Brand={}, Model={}, Speed={}'.format(self.brand, self.model, self.speed)\n",
    "\n",
    "    def __str__(self):\n",
    "        return 'This is a {} model {} going at {}km/h.'.format(self.brand, self.model, self.speed)\n",
    "\n",
    "if __name__ == '__main__':\n",
    "    m3 = Car('Bmw', 'M3', 120)\n",
    "    print(m3)\n",
    "    print(repr(m3))\n",
    "\n",
    "    "
   ]
  },
  {
   "cell_type": "markdown",
   "metadata": {},
   "source": [
    "A simple and straightforward way for overriding the *\\_\\_repr\\_\\_* method is to return the *\\_\\_dict\\_\\_* attribute which is a dictionary listing all the attributes associated with their values."
   ]
  },
  {
   "cell_type": "code",
   "execution_count": 14,
   "metadata": {},
   "outputs": [
    {
     "name": "stdout",
     "output_type": "stream",
     "text": [
      "{'brand': 'Bmw', 'model': 'M3', 'speed': 120}\n"
     ]
    }
   ],
   "source": [
    "class Car:\n",
    "    def __init__(self, brand, model, speed=0):\n",
    "        self.brand = brand\n",
    "        self.model = model\n",
    "        self.speed = speed\n",
    "\n",
    "    def __repr__(self):\n",
    "        return str(self.__dict__)\n",
    "    \n",
    "if __name__ == '__main__':\n",
    "    m3 = Car('Bmw', 'M3', 120)\n",
    "    print(m3)"
   ]
  },
  {
   "cell_type": "markdown",
   "metadata": {},
   "source": [
    "## One class, many objects"
   ]
  },
  {
   "cell_type": "code",
   "execution_count": 15,
   "metadata": {},
   "outputs": [
    {
     "name": "stdout",
     "output_type": "stream",
     "text": [
      "[{'brand': 'BMW', 'model': 'M3', 'speed': 0}, {'brand': 'Fiat', 'model': 'Punto', 'speed': 0}, {'brand': 'Porsche', 'model': 'GT3', 'speed': 0}, {'brand': 'Lancia', 'model': 'Beta', 'speed': 0}]\n"
     ]
    }
   ],
   "source": [
    "import random\n",
    "\n",
    "class Car:\n",
    "    def __init__(self, brand, model, speed=0):\n",
    "        self.brand = brand\n",
    "        self.model = model\n",
    "        self.speed = speed\n",
    "\n",
    "    def __repr__(self):\n",
    "        return str(self.__dict__)\n",
    "    \n",
    "if __name__ == '__main__':\n",
    "    cars = [ \n",
    "        Car('BMW', 'M3'), \n",
    "        Car('Fiat', 'Punto'), \n",
    "        Car('Porsche', 'GT3'), \n",
    "        Car('Lancia', 'Beta')\n",
    "    ]\n",
    "    print(cars)"
   ]
  },
  {
   "cell_type": "markdown",
   "metadata": {},
   "source": [
    "## Docstrings\n",
    "Docstring is a short for documentation string. Python docstrings are the string literals that appear right after the definition of a function, method, class, or module. Triple quotes are used. The docstring is available as the *\\_\\_doc\\_\\_* attribute."
   ]
  },
  {
   "cell_type": "code",
   "execution_count": 16,
   "metadata": {},
   "outputs": [
    {
     "name": "stdout",
     "output_type": "stream",
     "text": [
      "\n",
      "    A simple class for representing a car\n",
      "    with a brand, a model name, and a speed\n",
      "    \n",
      "\n",
      "    A simple class for representing a car\n",
      "    with a brand, a model name, and a speed\n",
      "    \n",
      "\n",
      "    A simple class for representing a car\n",
      "    with a brand, a model name, and a speed\n",
      "    \n"
     ]
    }
   ],
   "source": [
    "class Car:\n",
    "    \"\"\"\n",
    "    A simple class for representing a car\n",
    "    with a brand, a model name, and a speed\n",
    "    \"\"\"\n",
    "    def __init__(self, brand, model, speed=0):\n",
    "        self.brand = brand\n",
    "        self.model = model\n",
    "        self.speed = speed\n",
    "\n",
    "if __name__ == '__main__':\n",
    "    m3 = Car('Bmw', 'M3')\n",
    "    print(m3.__doc__)\n",
    "    print(m3.__class__.__doc__)\n",
    "    print(Car.__doc__)"
   ]
  },
  {
   "cell_type": "markdown",
   "metadata": {},
   "source": [
    "# Encapsulation, Inheritance, Polymorphism"
   ]
  },
  {
   "cell_type": "markdown",
   "metadata": {},
   "source": [
    "## Encapsulation\n",
    "Encapsulation allows to restrict access to methods and variables. This prevents data from unwanted modifications. In Python, we *denote* private attributes using underscores as the prefix such as *self.\\_varname* or *self.\\_\\_varname*. Getters and setters have to be used along with this approach."
   ]
  },
  {
   "cell_type": "code",
   "execution_count": 17,
   "metadata": {},
   "outputs": [
    {
     "name": "stdout",
     "output_type": "stream",
     "text": [
      "fake!\n"
     ]
    }
   ],
   "source": [
    "class Car:\n",
    "    def __init__(self, brand, model, licence):\n",
    "        self._brand = brand\n",
    "        self._model = model\n",
    "        self._licence = licence\n",
    "        \n",
    "    def get_brand(self):\n",
    "        return self._brand    \n",
    "    \n",
    "    def set_brand(self, brand):\n",
    "        self._brand = brand    \n",
    "    \n",
    "    def get_model(self):\n",
    "        return self._model\n",
    "    \n",
    "    def set_model(self, model):\n",
    "        self._model = model  \n",
    "        \n",
    "    def get_licence(self):\n",
    "        return self._licence\n",
    "    \n",
    "    def set_licence(self, licence):\n",
    "        if len(licence) != 7:\n",
    "            raise ValueError(\"licence must be LLNNNLL\")\n",
    "        if not all(x.isalpha() for x in licence[0:2]):\n",
    "            raise ValueError(\"licence must be LLNNNLL\")\n",
    "        if not all(x.isalpha() for x in licence[-2:]):\n",
    "            raise ValueError(\"licence must be LLNNNLL\")\n",
    "        if not all(x.isnumeric() for x in licence[2:5]):\n",
    "            raise ValueError(\"licence must be LLNNNLL\")\n",
    "        self._licence = licence\n",
    "\n",
    "if __name__ == '__main__':\n",
    "    # warning: the constructor do not apply controls!!\n",
    "    m3 = Car('Bmw', 'M3', 'ABCDEFG')\n",
    "    \n",
    "    # the set_licence method works fine\n",
    "    m3.set_licence('AA335TT')\n",
    "    \n",
    "    # should not be done but still working\n",
    "    m3._licence = 'fake!'\n",
    "    \n",
    "    print(m3.get_licence())"
   ]
  },
  {
   "cell_type": "code",
   "execution_count": 18,
   "metadata": {},
   "outputs": [
    {
     "name": "stdout",
     "output_type": "stream",
     "text": [
      "FY335YT\n"
     ]
    }
   ],
   "source": [
    "# This version implements controls inside the constructor as well\n",
    "class Car:\n",
    "    def __init__(self, brand, model, licence):\n",
    "        self.set_brand(brand)\n",
    "        self.set_model(model)\n",
    "        self.set_licence(licence)\n",
    "        \n",
    "    def get_brand(self):\n",
    "        return self._brand    \n",
    "    \n",
    "    def set_brand(self, brand):\n",
    "        self._brand = brand    \n",
    "    \n",
    "    def get_model(self):\n",
    "        return self._model\n",
    "    \n",
    "    def set_model(self, model):\n",
    "        self._model = model  \n",
    "        \n",
    "    def get_licence(self):\n",
    "        return self._licence\n",
    "    \n",
    "    def set_licence(self, licence):\n",
    "        if len(licence) != 7:\n",
    "            raise ValueError(\"licence must be LLNNNLL\")\n",
    "        if not all(x.isalpha() for x in licence[0:2]):\n",
    "            raise ValueError(\"licence must be LLNNNLL\")\n",
    "        if not all(x.isalpha() for x in licence[-2:]):\n",
    "            raise ValueError(\"licence must be LLNNNLL\")\n",
    "        if not all(x.isnumeric() for x in licence[2:5]):\n",
    "            raise ValueError(\"licence must be LLNNNLL\")\n",
    "        self._licence = licence\n",
    "\n",
    "if __name__ == '__main__':\n",
    "    m3 = Car('Bmw', 'M3', 'GY455WE')\n",
    "    m3.set_licence('FY335YT')\n",
    "    print(m3.get_licence())"
   ]
  },
  {
   "cell_type": "markdown",
   "metadata": {},
   "source": [
    "*The use of getters and setters is discouraged in Python* because they break the external interface of the class. Referring either to obj.brand or obj.get_brand() requires updating external dependencies. Alternatively, if encapsulation is required, *properties* can be used. Properties allows for encapsulation while maintaining intact the external interface of the class."
   ]
  },
  {
   "cell_type": "code",
   "execution_count": 19,
   "metadata": {},
   "outputs": [
    {
     "name": "stdout",
     "output_type": "stream",
     "text": [
      "setter of licence called\n",
      "setter of licence called\n",
      "getter of licence called\n",
      "FY335YT\n"
     ]
    }
   ],
   "source": [
    "class Car:\n",
    "    def __init__(self, brand, model, licence):\n",
    "        self.brand = brand\n",
    "        self.model = model\n",
    "        self.licence = licence\n",
    "\n",
    "    @property\n",
    "    def licence(self):\n",
    "        print(\"getter of licence called\")\n",
    "        return self._licence\n",
    "\n",
    "    @licence.setter\n",
    "    def licence(self, value):\n",
    "        print(\"setter of licence called\")\n",
    "        if len(value) != 7:\n",
    "            raise ValueError(\"licence must be LLNNNLL\")\n",
    "        if not all(isinstance(x, str) for x in value[0:2]):\n",
    "            raise ValueError(\"licence must be LLNNNLL\")\n",
    "        if not all(isinstance(x, str) for x in value[-2:]):\n",
    "            raise ValueError(\"licence must be LLNNNLL\")\n",
    "        if not all(x.isnumeric() for x in value[2:5]):\n",
    "            raise ValueError(\"licence must be LLNNNLL\")\n",
    "        self._licence = value\n",
    "\n",
    "    @licence.deleter\n",
    "    def licence(self):\n",
    "        print(\"deleter of licence called\")\n",
    "        del self._licence\n",
    "        \n",
    "if __name__ == '__main__':\n",
    "    m3 = Car('Bmw', 'M3', 'GY455AI')\n",
    "    m3.licence = 'FY335YT'\n",
    "    print(m3.licence)"
   ]
  },
  {
   "cell_type": "markdown",
   "metadata": {},
   "source": [
    "## Inheritance\n",
    "Inheritance allows us to define a class that inherits all the methods and properties from another class. The class which get inherited is called *base class* or *parent class*. The class which inherits the other class is called *child class* or *derived class*. Derived classes inherit all attributes and methods from a base class. Furthermore they can:\n",
    "* add attributes and methods\n",
    "* redefine existing methods\n",
    "\n",
    "Python offers a *super()* function which allows us to access the super class. The *super()* function is usually used in constructurs of derived classes for initializing the inherited portion of the object."
   ]
  },
  {
   "cell_type": "code",
   "execution_count": 20,
   "metadata": {},
   "outputs": [
    {
     "name": "stdout",
     "output_type": "stream",
     "text": [
      "{'brand': 'Tesla', 'model': 'ModelX', 'speed': 1, 'battery_level': 1}\n"
     ]
    }
   ],
   "source": [
    "# base class\n",
    "class Car:\n",
    "    def __init__(self, brand, model, speed=0):\n",
    "        self.brand = brand\n",
    "        self.model = model\n",
    "        self.speed = speed\n",
    "    \n",
    "    def speed_up(self):\n",
    "        self.speed += 1\n",
    "        \n",
    "    def speed_down(self):\n",
    "        self.speed -= 1\n",
    "        \n",
    "    def __repr__(self):\n",
    "        return str(self.__dict__)\n",
    "\n",
    "# derived class\n",
    "class ECar(Car):\n",
    "    def __init__(self, brand, model, speed=0, battery_level=0):\n",
    "        super().__init__(brand, model, speed)\n",
    "        self.battery_level = battery_level\n",
    "\n",
    "    def charge(self):\n",
    "        self.battery_level += 1\n",
    "        \n",
    "    def discharge(self):\n",
    "        self.battery_level -= 1\n",
    "\n",
    "if __name__ == '__main__':\n",
    "    tsla = ECar('Tesla', 'ModelX')\n",
    "    tsla.speed_up()\n",
    "    tsla.charge()\n",
    "    print(tsla)\n"
   ]
  },
  {
   "cell_type": "markdown",
   "metadata": {},
   "source": [
    "## Multilevel Inheritance\n",
    "We can also inherit from a derived class. This is called multilevel inheritance. It can be of any depth in Python. *In multilevel inheritance, features of both the base class and the derived class are inherited into the new derived class*."
   ]
  },
  {
   "cell_type": "code",
   "execution_count": 21,
   "metadata": {},
   "outputs": [],
   "source": [
    "class Base:\n",
    "    pass\n",
    "\n",
    "class Derived1(Base):\n",
    "    pass\n",
    "\n",
    "class Derived2(Derived1):\n",
    "    pass"
   ]
  },
  {
   "cell_type": "markdown",
   "metadata": {},
   "source": [
    "## Multiple Inheritance\n",
    "A class can be derived from more than one base class in Python, similarly to C++. This is called multiple inheritance. *In multiple inheritance, the features of all the base classes are inherited into the derived class*. The syntax for multiple inheritance is similar to single inheritance."
   ]
  },
  {
   "cell_type": "code",
   "execution_count": 22,
   "metadata": {},
   "outputs": [],
   "source": [
    "class Base1:\n",
    "    pass\n",
    "\n",
    "class Base2:\n",
    "    pass\n",
    "\n",
    "class MultiDerived(Base1, Base2):\n",
    "    pass"
   ]
  },
  {
   "cell_type": "markdown",
   "metadata": {},
   "source": [
    "## Method Resolution Order\n",
    "Every class in Python is derived from the *object* class. It is the most base type in Python. Technically, all classes, either built-in or user-defined, are derived classes and all objects are instances of the object class."
   ]
  },
  {
   "cell_type": "code",
   "execution_count": 23,
   "metadata": {},
   "outputs": [
    {
     "name": "stdout",
     "output_type": "stream",
     "text": [
      "True\n",
      "True\n",
      "True\n",
      "True\n"
     ]
    }
   ],
   "source": [
    "# issubclass compares two types\n",
    "print(issubclass(float, object))\n",
    "print(issubclass(str, object))\n",
    "\n",
    "# isinstance compares an object and a type\n",
    "print(isinstance(5.5, object))\n",
    "print(isinstance(\"Hello\", object))"
   ]
  },
  {
   "cell_type": "markdown",
   "metadata": {},
   "source": [
    "In the multiple inheritance scenario, any specified attribute is searched first in the current class. If not found, the search continues into parent classes in *depth-first, left-right fashion* without searching the same class twice. In the above example of MultiDerived class the search order is [MultiDerived, Base1, Base2, object]. This order is also called linearization of MultiDerived class and the set of rules used to find this order is called Method Resolution Order (MRO).\n",
    "\n",
    "MRO of a class can be viewed as the *\\_\\_mro\\_\\_* attribute or the *mro()* method. The former returns a tuple while the latter returns a list."
   ]
  },
  {
   "cell_type": "code",
   "execution_count": 24,
   "metadata": {},
   "outputs": [
    {
     "data": {
      "text/plain": [
       "(__main__.MultiDerived, __main__.Base1, __main__.Base2, object)"
      ]
     },
     "execution_count": 24,
     "metadata": {},
     "output_type": "execute_result"
    }
   ],
   "source": [
    "MultiDerived.__mro__"
   ]
  },
  {
   "cell_type": "code",
   "execution_count": 25,
   "metadata": {},
   "outputs": [
    {
     "data": {
      "text/plain": [
       "[__main__.MultiDerived, __main__.Base1, __main__.Base2, object]"
      ]
     },
     "execution_count": 25,
     "metadata": {},
     "output_type": "execute_result"
    }
   ],
   "source": [
    "MultiDerived.mro()"
   ]
  },
  {
   "cell_type": "markdown",
   "metadata": {},
   "source": [
    "## Polymorphism\n",
    "Using inheritance, the child class inherits the methods from the parent class. However, it is possible to modify a method in a child class that has been inherited from the parent class. In such cases, we re-implement the method in the child class. This process of re-implementing a method in the child class is known as *method overriding*. Method overriding eventually leads to polymorphic behaviours (same method behaving in different ways depending on the object it is actually called on)."
   ]
  },
  {
   "cell_type": "code",
   "execution_count": 26,
   "metadata": {},
   "outputs": [
    {
     "name": "stdout",
     "output_type": "stream",
     "text": [
      "[{'brand': 'BMW', 'model': 'M3', 'speed': 21}, {'brand': 'Tesla', 'model': 'ModelX', 'speed': 32, 'battery_level': 0}]\n"
     ]
    }
   ],
   "source": [
    "# base class\n",
    "class Car:\n",
    "    def __init__(self, brand, model, speed=0):\n",
    "        self.brand = brand\n",
    "        self.model = model\n",
    "        self.speed = speed\n",
    "    \n",
    "    def speed_up(self):\n",
    "        self.speed += 1\n",
    "        \n",
    "    def speed_down(self):\n",
    "        self.speed -= 1\n",
    "        \n",
    "    def __repr__(self):\n",
    "        return str(self.__dict__)\n",
    "\n",
    "# derived class\n",
    "class ECar(Car):\n",
    "    def __init__(self, brand, model, speed=0, battery_level=0):\n",
    "        super().__init__(brand, model, speed)\n",
    "        self.battery_level = battery_level\n",
    "        \n",
    "    # overriden methods\n",
    "    def speed_up(self):\n",
    "        self.speed += 2\n",
    "        \n",
    "    def speed_down(self):\n",
    "        self.speed -= 2\n",
    "\n",
    "    # additional methods\n",
    "    def charge(self):\n",
    "        self.battery_level += 1\n",
    "        \n",
    "    def discharge(self):\n",
    "        self.battery_level -= 1\n",
    "\n",
    "if __name__ == '__main__':\n",
    "    cars = [Car('BMW', 'M3', 20), ECar('Tesla', 'ModelX', 30)]\n",
    "    for car in cars:\n",
    "        car.speed_up()\n",
    "    print(cars)\n"
   ]
  },
  {
   "cell_type": "markdown",
   "metadata": {},
   "source": [
    "## Informal Interfaces\n",
    "In certain circumstances, you may not need the strict rules of a formal interface. Python’s dynamic nature allows to implement informal interfaces. *An informal interface is a class that defines methods that can be overridden, but there’s no strict enforcement*. "
   ]
  },
  {
   "cell_type": "code",
   "execution_count": 27,
   "metadata": {},
   "outputs": [],
   "source": [
    "class InformalCarInterface:\n",
    "    def speed_up(self):\n",
    "        pass\n",
    "\n",
    "    def speed_down(self):\n",
    "        pass"
   ]
  },
  {
   "cell_type": "markdown",
   "metadata": {},
   "source": [
    "InformalCarInterface defines the two methods *speed_up()* and *speed_down()*. These methods are defined but not implemented. The implementation will occur once you create concrete classes that inherit from InformalCarInterface.\n",
    "\n",
    "To use your interface, you must create a concrete class. A concrete class is a subclass of the interface that provides an implementation of the interface's methods. \n",
    "\n",
    "Such informal interfaces are fine for small projects where only a few developers are working on the source code. However, as projects get larger and teams grow, this could lead to developers spending countless hours looking for hard-to-find logic errors in the codebase!"
   ]
  },
  {
   "cell_type": "code",
   "execution_count": 28,
   "metadata": {},
   "outputs": [],
   "source": [
    "class Car(InformalCarInterface):\n",
    "    def speed_up(self):\n",
    "        pass\n",
    "\n",
    "    def speed_down(self):\n",
    "        pass"
   ]
  },
  {
   "cell_type": "code",
   "execution_count": 29,
   "metadata": {},
   "outputs": [],
   "source": [
    "class ECar(InformalCarInterface):\n",
    "    def speed_up(self):\n",
    "        pass\n",
    "\n",
    "    def speed_down(self):\n",
    "        pass"
   ]
  },
  {
   "cell_type": "markdown",
   "metadata": {},
   "source": [
    "# Sorting user-defined objects"
   ]
  },
  {
   "cell_type": "markdown",
   "metadata": {},
   "source": [
    "## Using sort() and sorted()"
   ]
  },
  {
   "cell_type": "markdown",
   "metadata": {},
   "source": [
    "Both *list.sort()* and *sorted()* have a key parameter to specify a function (or other callable) to be called on each list element prior to making comparisons.\n",
    "\n",
    "The value of the key parameter should be a function (or other callable) that takes a single argument and returns a key to use for sorting purposes. This technique is fast because the key function is called exactly once for each input record."
   ]
  },
  {
   "cell_type": "code",
   "execution_count": 30,
   "metadata": {},
   "outputs": [
    {
     "name": "stdout",
     "output_type": "stream",
     "text": [
      "[{'brand': 'Rimac', 'model': 'Concept One', 'speed': 300}, {'brand': 'Fiat', 'model': '500E', 'speed': 100}, {'brand': 'BMW', 'model': 'M2', 'speed': 200}]\n",
      "[{'brand': 'BMW', 'model': 'M2', 'speed': 200}, {'brand': 'Fiat', 'model': '500E', 'speed': 100}, {'brand': 'Rimac', 'model': 'Concept One', 'speed': 300}]\n"
     ]
    }
   ],
   "source": [
    "# sorting objects\n",
    "class Car:\n",
    "    def __init__(self, brand, model, speed=0):\n",
    "        self.brand = brand\n",
    "        self.model = model\n",
    "        self.speed = speed\n",
    "        \n",
    "    def __repr__(self):\n",
    "        return str(self.__dict__)\n",
    "    \n",
    "cars = [\n",
    "    Car('BMW', 'M2', 200),\n",
    "    Car('Rimac', 'Concept One', 300),\n",
    "    Car('Fiat', '500E', 100),\n",
    "]\n",
    "\n",
    "# using sort\n",
    "cars.sort(key=lambda car: car.brand, reverse=True)\n",
    "print(cars)\n",
    "\n",
    "# usign sorted (list is not modified)\n",
    "print(sorted(cars, key=lambda car: car.brand))"
   ]
  },
  {
   "cell_type": "markdown",
   "metadata": {},
   "source": [
    "## The operator module"
   ]
  },
  {
   "cell_type": "markdown",
   "metadata": {},
   "source": [
    "The key-function patterns shown above are very common, so Python provides convenience functions to make accessor functions easier and faster. The *operator* module has *itemgetter()*, *attrgetter()*, and a *methodcaller()* function. The *operator* module functions allows multiple levels of sorting."
   ]
  },
  {
   "cell_type": "code",
   "execution_count": 31,
   "metadata": {},
   "outputs": [
    {
     "name": "stdout",
     "output_type": "stream",
     "text": [
      "[{'brand': 'BMW', 'model': 'M2', 'speed': 200}, {'brand': 'Fiat', 'model': '500E', 'speed': 100}, {'brand': 'Rimac', 'model': 'Concept One', 'speed': 300}]\n"
     ]
    }
   ],
   "source": [
    "import operator\n",
    "print(sorted(cars, key=operator.attrgetter('brand')))"
   ]
  },
  {
   "cell_type": "code",
   "execution_count": 32,
   "metadata": {},
   "outputs": [
    {
     "name": "stdout",
     "output_type": "stream",
     "text": [
      "[{'brand': 'BMW', 'model': 'M2', 'speed': 200}, {'brand': 'Fiat', 'model': '500E', 'speed': 100}, {'brand': 'Rimac', 'model': 'Concept One', 'speed': 300}]\n"
     ]
    }
   ],
   "source": [
    "import operator\n",
    "print(sorted(cars, key=operator.attrgetter('brand', 'speed')))"
   ]
  },
  {
   "cell_type": "markdown",
   "metadata": {},
   "source": [
    "# Modules and classes"
   ]
  },
  {
   "cell_type": "markdown",
   "metadata": {},
   "source": [
    "## Modules\n",
    "\n",
    "Python allows developers to save classes in another file and import them. This has the advantage of isolating your classes into files that can be used in different programs. *As you use your classes repeatedly, the classes become more reliable over time*. When you save a class into a separate file, that file is called a *module*. You can have any number of classes in a single module. \n",
    "\n",
    "Modules should have [short, lowercase names](http://www.python.org/dev/peps/pep-0008/#package-and-module-names). If you want to have a space in the module name, use an underscore. [Class names](http://www.python.org/dev/peps/pep-0008/#class-names) should be written in *CamelCase*, with an initial capital letter and any new word capitalized. There should be no underscores in your class names."
   ]
  },
  {
   "cell_type": "code",
   "execution_count": 33,
   "metadata": {
    "collapsed": false,
    "jupyter": {
     "outputs_hidden": false
    }
   },
   "outputs": [],
   "source": [
    "# Save as car.py\n",
    "class Car:\n",
    "    def __init__(self, brand, model, speed=0):\n",
    "        self.brand = brand\n",
    "        self.model = model\n",
    "        self.speed = speed\n",
    "    \n",
    "    def speed_up(self):\n",
    "        self.speed += 1\n",
    "        \n",
    "    def speed_down(self):\n",
    "        self.speed -= 1\n",
    "        \n",
    "    def __repr__(self):\n",
    "        return str(self.__dict__)\n",
    "\n",
    "class ECar(Car):\n",
    "    def __init__(self, brand, model, speed=0, battery_level=0):\n",
    "        super().__init__(brand, model, speed)\n",
    "        self.battery_level = battery_level\n",
    "        \n",
    "    # overriden methods\n",
    "    def speed_up(self):\n",
    "        self.speed += 2\n",
    "        \n",
    "    def speed_down(self):\n",
    "        self.speed -= 2\n",
    "\n",
    "    # additional methods\n",
    "    def charge(self):\n",
    "        self.battery_level += 1\n",
    "        \n",
    "    def discharge(self):\n",
    "        self.battery_level += 1"
   ]
  },
  {
   "cell_type": "code",
   "execution_count": 34,
   "metadata": {
    "collapsed": false,
    "jupyter": {
     "outputs_hidden": false
    }
   },
   "outputs": [
    {
     "name": "stdout",
     "output_type": "stream",
     "text": [
      "{'brand': 'BMW', 'model': 'M3', 'speed': 0}\n",
      "{'brand': 'Porsche', 'model': 'GT3', 'speed': 0}\n",
      "{'brand': 'Lancia', 'model': 'Beta', 'speed': 0}\n",
      "{'brand': 'Tesla', 'model': 'Model X', 'speed': 0, 'battery_level': 100}\n",
      "{'brand': 'Rimac', 'model': 'Concept Two', 'speed': 0, 'battery_level': 100}\n",
      "{'brand': 'Volvo', 'model': 'Polestar 1', 'speed': 0, 'battery_level': 100}\n"
     ]
    }
   ],
   "source": [
    "from resources.car import Car, ECar\n",
    "\n",
    "car_names = [('BMW', 'M3'), ('Porsche', 'GT3'), ('Lancia', 'Beta')]\n",
    "cars = [ Car(brand, model, 0) for brand, model in car_names ]\n",
    "for car in cars:\n",
    "    print(car)\n",
    "    \n",
    "car_names = [('Tesla', 'Model X'), ('Rimac', 'Concept Two'), ('Volvo', 'Polestar 1')]\n",
    "cars = [ ECar(brand, model, 0, 100) for brand, model in car_names ]\n",
    "for car in cars:\n",
    "    print(car)"
   ]
  },
  {
   "cell_type": "markdown",
   "metadata": {},
   "source": [
    "## Importing classes\n",
    "There are several ways to import modules and classes, and each has its own merits.\n",
    "\n",
    "*from module_name import ClassName* The first one is straightforward, and is used quite commonly. It allows you to use the class names directly in your program, so you have very clean and readable code. This can be a problem, however, if the names of the classes you are importing conflict with names that have already been used. "
   ]
  },
  {
   "cell_type": "code",
   "execution_count": 35,
   "metadata": {},
   "outputs": [
    {
     "name": "stdout",
     "output_type": "stream",
     "text": [
      "{'brand': 'BMW', 'model': 'M2', 'speed': 0}\n",
      "{'brand': 'Rimac', 'model': 'Concept One', 'speed': 0, 'battery_level': 0}\n"
     ]
    }
   ],
   "source": [
    "from resources.car import Car, ECar\n",
    "\n",
    "c0 = Car('BMW', 'M2')\n",
    "print(c0)\n",
    "\n",
    "c1 = ECar('Rimac', 'Concept One')\n",
    "print(c1)"
   ]
  },
  {
   "cell_type": "markdown",
   "metadata": {},
   "source": [
    "*import module_name* The second one prevents name conflicts. However, it requires to use the module name each time a class or a function is used."
   ]
  },
  {
   "cell_type": "code",
   "execution_count": 36,
   "metadata": {
    "collapsed": false,
    "jupyter": {
     "outputs_hidden": false
    }
   },
   "outputs": [
    {
     "name": "stdout",
     "output_type": "stream",
     "text": [
      "{'brand': 'BMW', 'model': 'M2', 'speed': 0}\n",
      "{'brand': 'Rimac', 'model': 'Concept One', 'speed': 0, 'battery_level': 0}\n"
     ]
    }
   ],
   "source": [
    "import resources.car\n",
    "\n",
    "c0 = resources.car.Car('BMW', 'M2')\n",
    "print(c0)\n",
    "\n",
    "c1 = resources.car.ECar('Rimac', 'Concept One')\n",
    "print(c1)"
   ]
  },
  {
   "cell_type": "markdown",
   "metadata": {},
   "source": [
    "*import module_name as alias* When you are importing a module, you are free to choose any name you want for the module. This approach is often used to shorten the name of the module, so you don't have to type a long module name before each class name that you want to use. Beware, do not shorten names too much because it might hamper readability."
   ]
  },
  {
   "cell_type": "code",
   "execution_count": 37,
   "metadata": {
    "collapsed": false,
    "jupyter": {
     "outputs_hidden": false
    }
   },
   "outputs": [
    {
     "name": "stdout",
     "output_type": "stream",
     "text": [
      "{'brand': 'BMW', 'model': 'M2', 'speed': 0}\n",
      "{'brand': 'Rimac', 'model': 'Concept One', 'speed': 0, 'battery_level': 0}\n"
     ]
    }
   ],
   "source": [
    "import resources.car as c\n",
    "\n",
    "c0 = c.Car('BMW', 'M2')\n",
    "print(c0)\n",
    "\n",
    "c1 = c.ECar('Rimac', 'Concept One')\n",
    "print(c1)"
   ]
  },
  {
   "cell_type": "markdown",
   "metadata": {},
   "source": [
    "*from module_name import \\** This is not recommended, for a couple reasons. First of all, you may have no idea what all the names of the classes and functions in a module are (possible naming conflicts). Also, you may be importing way more code into your program than you need. If you really need all the functions and classes from a module, just import the module and use the `module_name.ClassName` syntax in your program."
   ]
  },
  {
   "cell_type": "code",
   "execution_count": 38,
   "metadata": {},
   "outputs": [
    {
     "name": "stdout",
     "output_type": "stream",
     "text": [
      "{'brand': 'BMW', 'model': 'M2', 'speed': 0}\n",
      "{'brand': 'Rimac', 'model': 'Concept One', 'speed': 0, 'battery_level': 0}\n"
     ]
    }
   ],
   "source": [
    "from resources.car import *\n",
    "\n",
    "c0 = Car('BMW', 'M2')\n",
    "print(c0)\n",
    "\n",
    "c1 = ECar('Rimac', 'Concept One')\n",
    "print(c1)\n"
   ]
  },
  {
   "cell_type": "markdown",
   "metadata": {},
   "source": [
    "## Importing functions\n",
    "\n",
    "You can use modules to store a set of functions you want available in different programs as well, even if those functions are not attached to any class. To do this, you save the functions into a file, and then import that file just as you saw in the last section. "
   ]
  },
  {
   "cell_type": "code",
   "execution_count": 39,
   "metadata": {
    "collapsed": false,
    "jupyter": {
     "outputs_hidden": false
    }
   },
   "outputs": [],
   "source": [
    "# Save as multiplying.py\n",
    "def double(x):\n",
    "    return 2*x\n",
    "\n",
    "def triple(x):\n",
    "    return 3*x\n",
    "\n",
    "def quadruple(x):\n",
    "    return 4*x"
   ]
  },
  {
   "cell_type": "code",
   "execution_count": 40,
   "metadata": {
    "collapsed": false,
    "jupyter": {
     "outputs_hidden": false
    }
   },
   "outputs": [
    {
     "name": "stdout",
     "output_type": "stream",
     "text": [
      "10\n",
      "15\n"
     ]
    }
   ],
   "source": [
    "from resources.multiplying import double, triple\n",
    "\n",
    "print(double(5))\n",
    "print(triple(5))"
   ]
  },
  {
   "cell_type": "code",
   "execution_count": 41,
   "metadata": {
    "collapsed": false,
    "jupyter": {
     "outputs_hidden": false
    }
   },
   "outputs": [
    {
     "name": "stdout",
     "output_type": "stream",
     "text": [
      "10\n",
      "15\n"
     ]
    }
   ],
   "source": [
    "import resources.multiplying\n",
    "\n",
    "print(resources.multiplying.double(5))\n",
    "print(resources.multiplying.triple(5))"
   ]
  },
  {
   "cell_type": "code",
   "execution_count": 42,
   "metadata": {
    "collapsed": false,
    "jupyter": {
     "outputs_hidden": false
    }
   },
   "outputs": [
    {
     "name": "stdout",
     "output_type": "stream",
     "text": [
      "10\n",
      "15\n"
     ]
    }
   ],
   "source": [
    "import resources.multiplying as m\n",
    "\n",
    "print(m.double(5))\n",
    "print(m.triple(5))"
   ]
  },
  {
   "cell_type": "code",
   "execution_count": 43,
   "metadata": {
    "collapsed": false,
    "jupyter": {
     "outputs_hidden": false
    }
   },
   "outputs": [
    {
     "name": "stdout",
     "output_type": "stream",
     "text": [
      "10\n",
      "15\n"
     ]
    }
   ],
   "source": [
    "from resources.multiplying import *\n",
    "\n",
    "print(double(5))\n",
    "print(triple(5))"
   ]
  },
  {
   "cell_type": "markdown",
   "metadata": {},
   "source": [
    "## PEP8 guidelines\n",
    "\n",
    "Imports should always be placed at the top of the file. This lets anyone who works with your program see what modules are required for the program to work. Your import statements should be in a predictable order:\n",
    "\n",
    "- The first imports should be *standard Python modules* such as *sys*, *os*, and *math*.\n",
    "- The second set of imports should be *third-party libraries* such as [pygame](http://pygame.org/news.html) and [requests](http://docs.python-requests.org/en/latest/).\n",
    "\n",
    "The names of modules should be on separate lines:"
   ]
  },
  {
   "cell_type": "code",
   "execution_count": 44,
   "metadata": {
    "collapsed": false,
    "jupyter": {
     "outputs_hidden": false
    }
   },
   "outputs": [],
   "source": [
    "# ok\n",
    "import sys\n",
    "import os\n",
    "\n",
    "# not ok\n",
    "import sys, os"
   ]
  },
  {
   "cell_type": "markdown",
   "metadata": {},
   "source": [
    "The names of classes can be on the same line:"
   ]
  },
  {
   "cell_type": "code",
   "execution_count": 45,
   "metadata": {
    "collapsed": false,
    "jupyter": {
     "outputs_hidden": false
    }
   },
   "outputs": [],
   "source": [
    "from resources.car import Car, ECar"
   ]
  }
 ],
 "metadata": {
  "kernelspec": {
   "display_name": "Python 3 (ipykernel)",
   "language": "python",
   "name": "python3"
  },
  "language_info": {
   "codemirror_mode": {
    "name": "ipython",
    "version": 3
   },
   "file_extension": ".py",
   "mimetype": "text/x-python",
   "name": "python",
   "nbconvert_exporter": "python",
   "pygments_lexer": "ipython3",
   "version": "3.9.7"
  },
  "toc-autonumbering": true
 },
 "nbformat": 4,
 "nbformat_minor": 4
}
