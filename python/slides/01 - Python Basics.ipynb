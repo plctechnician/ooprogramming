{
 "cells": [
  {
   "cell_type": "markdown",
   "metadata": {},
   "source": [
    "# The Python Environment"
   ]
  },
  {
   "cell_type": "markdown",
   "metadata": {},
   "source": [
    "## Timeline\n",
    "\n",
    "* 1989: Python started as a hobby project\n",
    "* 1991: Python 0.9.0 released on the Internet (alt.sources)\n",
    "* 1994: Python 1 released\n",
    "* 2000: Python 2 released\n",
    "* 2008: Python 3 released (no more backward compatibility)\n",
    "* 2020: Python 3.9 released\n",
    "\n",
    "[Guido van Rossum](http://en.wikipedia.org/wiki/Guido_van_Rossum) (born 31 January 1956) is a Dutch programmer best known as the creator of the Python programming language, for which he was the [Benevolent Dictator for Life](http://en.wikipedia.org/wiki/Benevolent_Dictator_for_Life) (BDFL) until he stepped down from the position in July 2018. He remained a member of the Python Steering Council through 2019, and withdrew from nominations for the 2020 election.\n",
    "\n",
    "*Python is an experiment in how much freedom programmers need. Too much freedom and nobody can read another's code; too little and expressiveness is endangered.* - Guido van Rossum, August 1996"
   ]
  },
  {
   "cell_type": "markdown",
   "metadata": {},
   "source": [
    "## Advantages and disadvantes\n",
    "\n",
    "Advantages\n",
    "\n",
    "* Portable\n",
    "* User-Friendly\n",
    "* Open-Source and Community\n",
    "* Fast Prototyping\n",
    "* High-level (no need to manage system architecture or memory)\n",
    "* Interpreted\n",
    "* Object-Oriented\n",
    "* Dynamic Typing (no need to declare data types)\n",
    "* Large Standard Library\n",
    "\n",
    "Disvantages\n",
    "\n",
    "* Slow Speed\n",
    "* Not Memory Efficient\n",
    "* Weak in Mobile Computing\n",
    "* Database Access (way more primitive than JDBC)\n",
    "* Runtime Errors (dynamically typed languages need more testing)\n"
   ]
  },
  {
   "cell_type": "markdown",
   "metadata": {},
   "source": [
    "## The Zen of Python\n",
    "\n",
    "Experienced Python programmers will encourage you to **avoid complexity** and aim for simplicity whenever possible. \n",
    "The Python community’s philosophy is contained in “The Zen of Python” by Tim Peters. You can access this brief set of principles for writing good code by entering **import this** into your interpreter. "
   ]
  },
  {
   "cell_type": "code",
   "execution_count": 1,
   "metadata": {},
   "outputs": [
    {
     "name": "stdout",
     "output_type": "stream",
     "text": [
      "The Zen of Python, by Tim Peters\n",
      "\n",
      "Beautiful is better than ugly.\n",
      "Explicit is better than implicit.\n",
      "Simple is better than complex.\n",
      "Complex is better than complicated.\n",
      "Flat is better than nested.\n",
      "Sparse is better than dense.\n",
      "Readability counts.\n",
      "Special cases aren't special enough to break the rules.\n",
      "Although practicality beats purity.\n",
      "Errors should never pass silently.\n",
      "Unless explicitly silenced.\n",
      "In the face of ambiguity, refuse the temptation to guess.\n",
      "There should be one-- and preferably only one --obvious way to do it.\n",
      "Although that way may not be obvious at first unless you're Dutch.\n",
      "Now is better than never.\n",
      "Although never is often better than *right* now.\n",
      "If the implementation is hard to explain, it's a bad idea.\n",
      "If the implementation is easy to explain, it may be a good idea.\n",
      "Namespaces are one honking great idea -- let's do more of those!\n"
     ]
    }
   ],
   "source": [
    "import this"
   ]
  },
  {
   "cell_type": "markdown",
   "metadata": {},
   "source": [
    "There is a lot here. Let's just take a few lines, and see what they mean for you as a new programmer.\n",
    "\n",
    "    Beautiful is better than ugly.\n",
    "\n",
    "Python programmers recognize that good code can actually be beautiful. If you come up with a particularly elegant or efficient way to solve a problem, especially a difficult problem, other Python programmers will respect your work and may even call it beautiful. There is beauty in high-level technical work.\n",
    "\n",
    "    Explicit is better than implicit.\n",
    "\n",
    "It is better to be clear about what you are doing, than come up with some shorter way to do something that is difficult to understand.\n",
    "\n",
    "    Simple is better than complex.\n",
    "    Complex is better than complicated.\n",
    "\n",
    "Keep your code simple whenever possible, but recognize that we sometimes take on really difficult problems for which there are no easy solutions. In those cases, accept the complexity but avoid complication.\n",
    "\n",
    "    Readability counts.\n",
    "\n",
    "There are very few interesting and useful programs these days that are written and maintained entirely by one person. Write your code in a way that others can read it as easily as possible, and in a way that you will be able to read and understand it 6 months from now. This includes writing good comments in your code.\n",
    "\n",
    "    There should be one-- and preferably only one --obvious way to do it.\n",
    "\n",
    "There are many ways to solve most problems that come up in programming. However, most problems have a standard, well-established approach. Save complexity for when it is needed, and solve problems in the most straightforward way possible.\n",
    "\n",
    "    Now is better than never.\n",
    "\n",
    "No one ever writes perfect code. If you have an idea you want to implement it, write some code that works. Release it, let it be used by others, and then steadily improve it."
   ]
  },
  {
   "cell_type": "markdown",
   "metadata": {},
   "source": [
    "## Python Enhancement Proposals\n",
    "\n",
    "PEP stands for Python Enhancement Proposal.  A PEP is a design document providing information, or describing a new feature for Python or its processes or environment.  The PEP should provide a concise technical specification of the feature and a rationale for the feature.\n",
    "\n",
    "[PEP 0 -- Index of Python Enhancement Proposals (PEPs)](https://www.python.org/dev/peps/)\n",
    "\n",
    "[PEP 8 -- Style Guide for Python Code](\n",
    "https://www.python.org/dev/peps/pep-0008/)\n",
    "\n",
    "[PEP 257 -- Docstring Conventions](https://peps.python.org/pep-0257/)"
   ]
  },
  {
   "cell_type": "markdown",
   "metadata": {},
   "source": [
    "## Python Virtual Machine\n",
    "![alt](images/python_interpreter.png)"
   ]
  },
  {
   "cell_type": "markdown",
   "metadata": {},
   "source": [
    "## Using Python\n",
    "* The *Python shell* is an interface for typing Python code and executing it directly in your computer’s terminal. The *IPython shell* is a much nicer version of the Python shell. It provides syntax highlighting, autocompletion, and other features.\n",
    "* An IDE is a sophisticated text editor that allows you edit, run, and debug code. The most feature-rich is [PyCharm](https://www.jetbrains.com/pycharm/). A good alternative is [Visual Studio Code](https://code.visualstudio.com/). Every Python installation comes with an Integrated Development and Learning Environment, which you'll see shortened to IDLE.\n",
    "* Python scripts can be run from command line.\n",
    "* The Jupyter Notebook is a powerful tool for prototyping and experimenting with code, as well as visualizing data and writing nicely-formatted text. We will be using this throughout the course.\n",
    "\n",
    "In all cases aside from Jupyter Notebooks, a python program is a readable script ready for being executed by an interpreter as represented below.\n",
    "\n",
    "```python\n",
    "#!/usr/bin/env python\n",
    "def main():\n",
    "  print(‘Hello world!’)\n",
    "\n",
    "if __name__ == \"__main__\":\n",
    "    main()\n",
    "```\n",
    "\n",
    "```bash\n",
    "$ python script.py\n",
    "\n",
    "# or\n",
    "\n",
    "$ chmod 755 script.py\n",
    "$ ./script.py\n",
    "```"
   ]
  },
  {
   "cell_type": "markdown",
   "metadata": {},
   "source": [
    "## Libraries\n",
    "\n",
    "The Python Package Index (aka PyPI) is the official third-party software repository for the Python. \n",
    "\n",
    "[https://pypi.org/](https://pypi.org/)\n",
    "\n",
    "pip is a is a command-line program used to {install, remove, update, …} software packages written in Python. \n",
    "\n",
    "[https://pypi.python.org/pypi/pip](https://pypi.python.org/pypi/pip)\n",
    "\n",
    "Anaconda and PyCharm greatly simplify the management of external libraries via Virtual Environments, the *conda* package manager and a dedicated GUI shown below.\n",
    "\n",
    "![pycharm_packages](images/pycharm_packages.png)"
   ]
  },
  {
   "cell_type": "markdown",
   "metadata": {},
   "source": [
    "## Which Python version am I running?"
   ]
  },
  {
   "cell_type": "code",
   "execution_count": 2,
   "metadata": {},
   "outputs": [
    {
     "data": {
      "text/plain": [
       "'3.9.7 (default, Sep 16 2021, 08:50:36) \\n[Clang 10.0.0 ]'"
      ]
     },
     "execution_count": 2,
     "metadata": {},
     "output_type": "execute_result"
    }
   ],
   "source": [
    "import sys\n",
    "sys.version"
   ]
  },
  {
   "cell_type": "markdown",
   "metadata": {},
   "source": [
    "# Basic concepts"
   ]
  },
  {
   "cell_type": "markdown",
   "metadata": {},
   "source": [
    "## Main function\n",
    "\n",
    "Python is not designed to start execution of the code from a main function explicitly. A special variable called *\\_\\_name\\_\\_* provides the functionality of the main function.  When you run a stand-alone python script which is not referring to any other script, the value of *\\_\\_name\\_\\_* variable is equal to *\\_\\_main\\_\\_*."
   ]
  },
  {
   "cell_type": "code",
   "execution_count": 3,
   "metadata": {},
   "outputs": [
    {
     "name": "stdout",
     "output_type": "stream",
     "text": [
      "[1] Hello World!\n",
      "[2] Hello world!\n"
     ]
    }
   ],
   "source": [
    "print('[1] Hello World!')\n",
    "\n",
    "def main():\n",
    "    print('[2] Hello world!')\n",
    "\n",
    "if __name__ == '__main__':\n",
    "    main()"
   ]
  },
  {
   "cell_type": "markdown",
   "metadata": {},
   "source": [
    "## Multi-line statements\n",
    "\n",
    "The end of a statement is marked by a newline character. \n",
    "We can make a statement extend over multiple lines with the line continuation character \\\\. Line continuation is implied inside parentheses *( )*, brackets *[ ]*, and braces *{ }*. "
   ]
  },
  {
   "cell_type": "code",
   "execution_count": 4,
   "metadata": {},
   "outputs": [
    {
     "name": "stdout",
     "output_type": "stream",
     "text": [
      "a=45 b=45\n"
     ]
    }
   ],
   "source": [
    "a = 1 + 2 + 3 + \\\n",
    "    4 + 5 + 6 + \\\n",
    "    7 + 8 + 9\n",
    "\n",
    "b = (1 + 2 + 3 +\n",
    "     4 + 5 + 6 +\n",
    "     7 + 8 + 9)\n",
    "\n",
    "print('a={} b={}'.format(a, b))"
   ]
  },
  {
   "cell_type": "markdown",
   "metadata": {},
   "source": [
    "## Indentation\n",
    "\n",
    "Other languages like C/C++ and Java use curly braces *{ }* to indicate the beginning and the end of blocks of code. Python uses white spaces (space or tabs) to define the block of functions. *It is mandatory to use a consistent amount of spaces (usually 4) for code blocks*."
   ]
  },
  {
   "cell_type": "code",
   "execution_count": 5,
   "metadata": {},
   "outputs": [
    {
     "data": {
      "text/plain": [
       "9"
      ]
     },
     "execution_count": 5,
     "metadata": {},
     "output_type": "execute_result"
    }
   ],
   "source": [
    "def sum(a=0.0, b=0.0):\n",
    "    \"\"\"Sums two numbers.\n",
    "\n",
    "    Keyword arguments:\n",
    "    a -- the first number (default 0.0)\n",
    "    b -- the second number (default 0.0)\n",
    "    \"\"\"\n",
    "    return a + b\n",
    "        \n",
    "sum(4, 5)\n"
   ]
  },
  {
   "cell_type": "markdown",
   "metadata": {},
   "source": [
    "Naming rules\n",
    "---\n",
    "- Variables can only contain letters, numbers, and underscores. Variable names can start with a letter or an underscore, but can not start with a number.\n",
    "- Spaces are not allowed in variable names, so we use underscores instead of spaces. For example, use student_name instead of \"student name\".\n",
    "- Variable names should be descriptive, without being too long. For example *motorcycle_wheels* is better than both *wheels*, and *number_of_wheels_on_a_motorycle*.\n",
    "- Be careful about using the lowercase letter l and the uppercase letter O in places where they could be confused with the numbers 1 and 0.\n",
    "- You cannot use [Python keywords](http://docs.python.org/3/reference/lexical_analysis.html#keywords) as variable names."
   ]
  },
  {
   "cell_type": "code",
   "execution_count": 6,
   "metadata": {},
   "outputs": [
    {
     "data": {
      "text/plain": [
       "True"
      ]
     },
     "execution_count": 6,
     "metadata": {},
     "output_type": "execute_result"
    }
   ],
   "source": [
    "import keyword\n",
    "keyword.iskeyword('for')"
   ]
  },
  {
   "cell_type": "code",
   "execution_count": 7,
   "metadata": {},
   "outputs": [
    {
     "data": {
      "text/plain": [
       "False"
      ]
     },
     "execution_count": 7,
     "metadata": {},
     "output_type": "execute_result"
    }
   ],
   "source": [
    "keyword.iskeyword('annalisa')"
   ]
  },
  {
   "cell_type": "markdown",
   "metadata": {},
   "source": [
    "## Variable Assignment"
   ]
  },
  {
   "cell_type": "markdown",
   "metadata": {},
   "source": [
    "Think of a variable as a name attached to a particular object. In Python, variables need not be declared or defined in advance, as is the case in many other programming languages. To create a variable, you just assign it a value and then start using it. Assignment is done with a single equals sign (=)."
   ]
  },
  {
   "cell_type": "code",
   "execution_count": 8,
   "metadata": {},
   "outputs": [],
   "source": [
    "# one variable, one value\n",
    "v = 'apple.com'\n",
    "\n",
    "# same variable, a new value (dynamic typing)\n",
    "v = 1\n",
    "\n",
    "# multiple variables, one value\n",
    "x = y = z = 'same value'\n",
    "\n",
    "# multiple variables, multiple values\n",
    "x, y, z = 5, 3.2, 'Hello'"
   ]
  },
  {
   "cell_type": "markdown",
   "metadata": {},
   "source": [
    "## Constants\n",
    "Constants are written in capital letters with underscores separating words. *Constats are only a convention and can be modified.* In fact, there are no actual compiler checks. Constants are usually declared and assigned in a separate module imported from the main file. "
   ]
  },
  {
   "cell_type": "code",
   "execution_count": 9,
   "metadata": {},
   "outputs": [
    {
     "name": "stdout",
     "output_type": "stream",
     "text": [
      "9001\n"
     ]
    }
   ],
   "source": [
    "MAX_SIZE = 9000\n",
    "MAX_SIZE = 9001\n",
    "print(MAX_SIZE)"
   ]
  },
  {
   "cell_type": "markdown",
   "metadata": {
    "tags": []
   },
   "source": [
    "As of Python 3.8, there's a typing.Final variable annotation that will tell static type checkers (like mypy) that the variable shouldn't be reassigned. This is the closest equivalent to Java's final. However, it does not actually prevent reassignment!"
   ]
  },
  {
   "cell_type": "code",
   "execution_count": 10,
   "metadata": {},
   "outputs": [
    {
     "name": "stdout",
     "output_type": "stream",
     "text": [
      "9001\n"
     ]
    }
   ],
   "source": [
    "from typing import Final\n",
    "\n",
    "MAX_SIZE: Final = 9000\n",
    "MAX_SIZE += 1  # warning reported by static type checker, visible in PyCharm\n",
    "print(MAX_SIZE)"
   ]
  },
  {
   "cell_type": "markdown",
   "metadata": {},
   "source": [
    "## Everything Is an Object\n",
    "\n",
    "Python is an object-oriented programming language, so in Python everything is an object. There are no primitive types. Some claim erroneously that Python is a type-free language. But this is not the case! Python has types; however, the types are linked not to the variable names but to the objects themselves. Variable names are only names, references to actual objects."
   ]
  },
  {
   "cell_type": "code",
   "execution_count": 11,
   "metadata": {},
   "outputs": [
    {
     "name": "stdout",
     "output_type": "stream",
     "text": [
      "<class 'int'>\n",
      "<class 'float'>\n",
      "<class 'complex'>\n",
      "<class 'str'>\n"
     ]
    }
   ],
   "source": [
    "x = 4 \n",
    "print(type(x))\n",
    "\n",
    "x = 3.14159 \n",
    "print(type(x))\n",
    "\n",
    "x = 3+4j\n",
    "print(type(x))\n",
    "\n",
    "x = 'hello'\n",
    "print(type(x))"
   ]
  },
  {
   "cell_type": "markdown",
   "metadata": {},
   "source": [
    "In object-oriented programming languages, an object is an entity that contains data along with associated functionalities. Every entity has data (called attributes) and associated functionalities (called methods). These attributes and methods are accessed via the dot syntax. What is sometimes unexpected is that in Python even simple types have attached attributes and methods."
   ]
  },
  {
   "cell_type": "code",
   "execution_count": 12,
   "metadata": {},
   "outputs": [
    {
     "name": "stdout",
     "output_type": "stream",
     "text": [
      "4.0+3.0j\n",
      "False\n",
      "True\n"
     ]
    }
   ],
   "source": [
    "x = 4+3j\n",
    "print('{}+{}j'.format(x.real, x.imag))\n",
    "\n",
    "x = 4.5\n",
    "print(x.is_integer())\n",
    "\n",
    "x = 4.0\n",
    "print(x.is_integer())"
   ]
  },
  {
   "cell_type": "markdown",
   "metadata": {},
   "source": [
    "# Literals"
   ]
  },
  {
   "cell_type": "markdown",
   "metadata": {},
   "source": [
    "## Numeric literals\n",
    "\n",
    "Numeric Literals are immutable (unchangeable). Can be only redefined (discarding the old value). Numeric literals can belong to 3 different numerical types: Integer, Float, Complex. The *math* module contains mathematical functions. The *random* module provides functions for random numbers.\n",
    "\n",
    "*sys.maxsize* contains the maximum size in bytes a Python int can be. *sys.float_info* contains metadata about floats."
   ]
  },
  {
   "cell_type": "code",
   "execution_count": 13,
   "metadata": {},
   "outputs": [
    {
     "name": "stdout",
     "output_type": "stream",
     "text": [
      "100 100 100 100\n",
      "150.0 150.0\n",
      "inf\n",
      "<class 'float'>\n",
      "(3+14j)\n"
     ]
    }
   ],
   "source": [
    "# Decimal, hex, octal, and binary representations of the same integer number\n",
    "print(100, 0x64, 0o144, 0b1100100)\n",
    "\n",
    "# Float literals without and with an exponent \n",
    "print(150.0, 1.5e2)\n",
    "\n",
    "# inf is a special Float literal \n",
    "# (2^400 is a massive number. 2^85 is close to the number of atoms in the universe)\n",
    "print(2e400)\n",
    "print(type(2e400))\n",
    "\n",
    "# Complex number\n",
    "print(3+14j)   "
   ]
  },
  {
   "cell_type": "code",
   "execution_count": 14,
   "metadata": {},
   "outputs": [
    {
     "name": "stdout",
     "output_type": "stream",
     "text": [
      "3.0\n",
      "1.4142135623730951\n",
      "3.141592653589793\n",
      "0.10599624095490479\n"
     ]
    }
   ],
   "source": [
    "import math\n",
    "print(math.fabs(-3))\n",
    "print(math.sqrt(2))\n",
    "print(math.pi)\n",
    "\n",
    "import random\n",
    "print(random.random())"
   ]
  },
  {
   "cell_type": "markdown",
   "metadata": {},
   "source": [
    "## Boolean literals\n",
    "\n",
    "Boolean values are the two constant objects *False* and *True*.\n",
    "They are used to represent truth values (other values can also be considered false or true). In numeric contexts, they behave like integers (i.e., True = 1, False = 0)."
   ]
  },
  {
   "cell_type": "code",
   "execution_count": 15,
   "metadata": {},
   "outputs": [
    {
     "name": "stdout",
     "output_type": "stream",
     "text": [
      "True\n",
      "False\n"
     ]
    }
   ],
   "source": [
    "x = True\n",
    "y = False\n",
    "\n",
    "print(x)\n",
    "print(y)"
   ]
  },
  {
   "cell_type": "code",
   "execution_count": 16,
   "metadata": {},
   "outputs": [
    {
     "name": "stdout",
     "output_type": "stream",
     "text": [
      "False\n",
      "True\n"
     ]
    }
   ],
   "source": [
    "x = (3 > 5)\n",
    "y = (3 != 5)\n",
    "\n",
    "print(x)\n",
    "print(y)"
   ]
  },
  {
   "cell_type": "code",
   "execution_count": 17,
   "metadata": {},
   "outputs": [
    {
     "name": "stdout",
     "output_type": "stream",
     "text": [
      "1\n",
      "0\n"
     ]
    }
   ],
   "source": [
    "x = True + 0\n",
    "y = False + 0\n",
    "\n",
    "print(x)\n",
    "print(y)"
   ]
  },
  {
   "cell_type": "markdown",
   "metadata": {},
   "source": [
    "Every value can be evaluated as True or False. The general rule is that any non-zero or non-empty value will evaluate to True. If you are ever unsure, you can open a Python terminal and write two lines to find out if the value you are considering is True or False."
   ]
  },
  {
   "cell_type": "code",
   "execution_count": 18,
   "metadata": {
    "collapsed": false,
    "jupyter": {
     "outputs_hidden": false
    }
   },
   "outputs": [
    {
     "name": "stdout",
     "output_type": "stream",
     "text": [
      "This evaluates to True.\n"
     ]
    }
   ],
   "source": [
    "if 3:\n",
    "    print('This evaluates to True.')\n",
    "else:\n",
    "    print('This evaluates to False.')"
   ]
  },
  {
   "cell_type": "code",
   "execution_count": 19,
   "metadata": {
    "collapsed": false,
    "jupyter": {
     "outputs_hidden": false
    }
   },
   "outputs": [
    {
     "name": "stdout",
     "output_type": "stream",
     "text": [
      "This evaluates to True.\n"
     ]
    }
   ],
   "source": [
    "if ' ':\n",
    "    print('This evaluates to True.')\n",
    "else:\n",
    "    print('This evaluates to False.')"
   ]
  },
  {
   "cell_type": "code",
   "execution_count": 20,
   "metadata": {
    "collapsed": false,
    "jupyter": {
     "outputs_hidden": false
    }
   },
   "outputs": [
    {
     "name": "stdout",
     "output_type": "stream",
     "text": [
      "This evaluates to True.\n"
     ]
    }
   ],
   "source": [
    "if 'hello':\n",
    "    print('This evaluates to True.')\n",
    "else:\n",
    "    print('This evaluates to False.')"
   ]
  },
  {
   "cell_type": "code",
   "execution_count": 21,
   "metadata": {
    "collapsed": false,
    "jupyter": {
     "outputs_hidden": false
    }
   },
   "outputs": [
    {
     "name": "stdout",
     "output_type": "stream",
     "text": [
      "This evaluates to False.\n"
     ]
    }
   ],
   "source": [
    "if None:\n",
    "    print('This evaluates to True.')\n",
    "else:\n",
    "    print('This evaluates to False.')"
   ]
  },
  {
   "cell_type": "code",
   "execution_count": 22,
   "metadata": {},
   "outputs": [
    {
     "name": "stdout",
     "output_type": "stream",
     "text": [
      "This evaluates to False.\n"
     ]
    }
   ],
   "source": [
    "if '':\n",
    "    print('This evaluates to True.')\n",
    "else:\n",
    "    print('This evaluates to False.')"
   ]
  },
  {
   "cell_type": "code",
   "execution_count": 23,
   "metadata": {},
   "outputs": [
    {
     "name": "stdout",
     "output_type": "stream",
     "text": [
      "This evaluates to False.\n"
     ]
    }
   ],
   "source": [
    "if 0:\n",
    "    print('This evaluates to True.')\n",
    "else:\n",
    "    print('This evaluates to False.')"
   ]
  },
  {
   "cell_type": "markdown",
   "metadata": {},
   "source": [
    "## String literals\n",
    "Strings are arrays of bytes representing Unicode characters (16bit encoding).\n",
    "Python does not have a character data type, a single character is a string with a length of 1."
   ]
  },
  {
   "cell_type": "code",
   "execution_count": 24,
   "metadata": {},
   "outputs": [],
   "source": [
    "string = 'This is Python'\n",
    "string = \"C\"\n",
    "string = \\\n",
    "\"\"\"This is a multiline string \n",
    "comprising more than one line of text.\n",
    "\n",
    "\"\"\""
   ]
  },
  {
   "cell_type": "markdown",
   "metadata": {},
   "source": [
    "## Implicit Casting\n",
    "If a single object is passed to type(), the function returns its type.\n",
    "We can use *type()* to know which class a variable belongs to and *isinstance()* to check if a variable belongs to a particular class."
   ]
  },
  {
   "cell_type": "code",
   "execution_count": 25,
   "metadata": {},
   "outputs": [
    {
     "name": "stdout",
     "output_type": "stream",
     "text": [
      "<class 'int'>\n",
      "<class 'float'>\n",
      "<class 'bool'>\n",
      "<class 'str'>\n",
      "<class 'complex'>\n",
      "True\n",
      "True\n",
      "True\n",
      "True\n",
      "True\n"
     ]
    }
   ],
   "source": [
    "a = 5\n",
    "b = 2.3 \n",
    "c = True\n",
    "d = 'hello'\n",
    "e = 3+4j\n",
    "\n",
    "print(type(a))\n",
    "print(type(b))\n",
    "print(type(c))\n",
    "print(type(d))\n",
    "print(type(e))\n",
    "\n",
    "print(isinstance(a, int))\n",
    "print(isinstance(b, float))\n",
    "print(isinstance(c, bool))\n",
    "print(isinstance(d, str))\n",
    "print(isinstance(e, complex))"
   ]
  },
  {
   "cell_type": "markdown",
   "metadata": {},
   "source": [
    "In Implicit type conversion, Python automatically converts one type to another type. This process doesn't need any user involvement. Python promotes the conversion of the lower data type (int) to the higher data type (float) to avoid data loss."
   ]
  },
  {
   "cell_type": "code",
   "execution_count": 26,
   "metadata": {},
   "outputs": [
    {
     "name": "stdout",
     "output_type": "stream",
     "text": [
      "<class 'int'>\n",
      "<class 'float'>\n",
      "<class 'float'>\n"
     ]
    }
   ],
   "source": [
    "print(type(123))\n",
    "print(type(1.23))\n",
    "print(type(123 + 1.23))"
   ]
  },
  {
   "cell_type": "markdown",
   "metadata": {},
   "source": [
    "## Explicit Casting\n",
    "* int() - constructs an integer number from an integer literal, a float literal, or a string literal (providing the string represents a whole number)\n",
    "* float() - constructs a float number from an integer literal, a float literal or a string literal (providing the string represents a float or an integer)\n",
    "* str() - constructs a string from a wide variety of data types, including strings, integer literals and float literals\n",
    "* bool() - constructs a boolean from a numeric literals."
   ]
  },
  {
   "cell_type": "code",
   "execution_count": 27,
   "metadata": {},
   "outputs": [
    {
     "name": "stdout",
     "output_type": "stream",
     "text": [
      "<class 'int'> 1\n",
      "<class 'int'> 2\n",
      "<class 'int'> 2\n",
      "<class 'float'> 1.0\n",
      "<class 'float'> 4.2\n",
      "<class 'float'> 4.2\n",
      "<class 'str'> abc\n",
      "<class 'str'> 4.2\n",
      "<class 'str'> 2\n",
      "<class 'bool'> True\n",
      "<class 'bool'> False\n",
      "<class 'bool'> True\n"
     ]
    }
   ],
   "source": [
    "def show(n):\n",
    "    print(type(n), n)\n",
    "\n",
    "show(int(1))\n",
    "show(int(2.8))\n",
    "show(int('2'))\n",
    "\n",
    "show(float(1))\n",
    "show(float('4.2'))\n",
    "show(float(4.2))\n",
    "\n",
    "show(str('abc'))\n",
    "show(str(4.2))\n",
    "show(str(2))\n",
    "\n",
    "show(bool('1'))\n",
    "show(bool(''))\n",
    "show(bool(0.2))"
   ]
  },
  {
   "cell_type": "markdown",
   "metadata": {},
   "source": [
    "Operators, for example +, behave in different manners when applied to different types."
   ]
  },
  {
   "cell_type": "code",
   "execution_count": 28,
   "metadata": {},
   "outputs": [
    {
     "name": "stdout",
     "output_type": "stream",
     "text": [
      "6.6\n",
      "4.22.4\n"
     ]
    }
   ],
   "source": [
    "a = 4.2\n",
    "b = 2.4\n",
    "print(a + b)\n",
    "\n",
    "a = '4.2'\n",
    "b = '2.4'\n",
    "print(a + b)\n",
    "\n",
    "a = 4.2\n",
    "b = '2.4'\n",
    "# produces an error!\n",
    "#print(a + b)"
   ]
  },
  {
   "cell_type": "markdown",
   "metadata": {},
   "source": [
    "# Sequences\n",
    "Sequences are a generic term for an *ordered set* which means that the order in which we input the items will be the same when we access them. Six different types of sequences are supported: strings, lists, tuples, byte sequences, byte arrays, and range objects."
   ]
  },
  {
   "cell_type": "code",
   "execution_count": 122,
   "metadata": {},
   "outputs": [],
   "source": [
    "#sequence = [1,2,3,4,5,5]\n",
    "sequence = 'abcdefghil'"
   ]
  },
  {
   "cell_type": "markdown",
   "metadata": {},
   "source": [
    "## Operations (for Sequences)\n",
    "\n",
    "The operator (+) is used to concatenate the second element to the first (concatenation)."
   ]
  },
  {
   "cell_type": "code",
   "execution_count": 123,
   "metadata": {},
   "outputs": [
    {
     "name": "stdout",
     "output_type": "stream",
     "text": [
      "abcdefghilabcdefghil\n"
     ]
    }
   ],
   "source": [
    "print(sequence + sequence)"
   ]
  },
  {
   "cell_type": "markdown",
   "metadata": {},
   "source": [
    "The operator (\\*) is used to repeat a sequence n number of times (repeat)."
   ]
  },
  {
   "cell_type": "code",
   "execution_count": 124,
   "metadata": {},
   "outputs": [
    {
     "name": "stdout",
     "output_type": "stream",
     "text": [
      "abcdefghilabcdefghilabcdefghil\n"
     ]
    }
   ],
   "source": [
    "print(sequence * 3)"
   ]
  },
  {
   "cell_type": "markdown",
   "metadata": {},
   "source": [
    "Membership operators (in) and (not in) are used to check whether an item is present in the sequence or not (membership). They return True or False. "
   ]
  },
  {
   "cell_type": "code",
   "execution_count": 127,
   "metadata": {},
   "outputs": [
    {
     "name": "stdout",
     "output_type": "stream",
     "text": [
      "True\n"
     ]
    }
   ],
   "source": [
    "print('b' in sequence)"
   ]
  },
  {
   "cell_type": "markdown",
   "metadata": {},
   "source": [
    "All the sequences in Python can be sliced (slicing). The slicing operator can take out a part of a sequence from the sequence."
   ]
  },
  {
   "cell_type": "code",
   "execution_count": 128,
   "metadata": {},
   "outputs": [
    {
     "name": "stdout",
     "output_type": "stream",
     "text": [
      "cde\n"
     ]
    }
   ],
   "source": [
    "print(sequence[2:5])"
   ]
  },
  {
   "cell_type": "markdown",
   "metadata": {},
   "source": [
    "## Functions (for Sequences)"
   ]
  },
  {
   "cell_type": "markdown",
   "metadata": {},
   "source": [
    "The *len()* function is very handy when you want to know the length of the sequence."
   ]
  },
  {
   "cell_type": "code",
   "execution_count": 129,
   "metadata": {},
   "outputs": [
    {
     "name": "stdout",
     "output_type": "stream",
     "text": [
      "10\n"
     ]
    }
   ],
   "source": [
    "print(len(sequence))"
   ]
  },
  {
   "cell_type": "markdown",
   "metadata": {},
   "source": [
    "The *min()* and *max()* functions are used to get the minimum value and the maximum value from the sequences respectively."
   ]
  },
  {
   "cell_type": "code",
   "execution_count": 130,
   "metadata": {},
   "outputs": [
    {
     "name": "stdout",
     "output_type": "stream",
     "text": [
      "a\n",
      "l\n"
     ]
    }
   ],
   "source": [
    "print(min(sequence))\n",
    "print(max(sequence))"
   ]
  },
  {
   "cell_type": "markdown",
   "metadata": {},
   "source": [
    "The *index()* method searches an element in the sequence and returns the index of the first occurrence."
   ]
  },
  {
   "cell_type": "code",
   "execution_count": 132,
   "metadata": {},
   "outputs": [
    {
     "name": "stdout",
     "output_type": "stream",
     "text": [
      "1\n"
     ]
    }
   ],
   "source": [
    "print(sequence.index('b'))"
   ]
  },
  {
   "cell_type": "markdown",
   "metadata": {},
   "source": [
    "The *count()* method counts the number of times an element has occurred in the sequence."
   ]
  },
  {
   "cell_type": "code",
   "execution_count": 134,
   "metadata": {},
   "outputs": [
    {
     "name": "stdout",
     "output_type": "stream",
     "text": [
      "1\n"
     ]
    }
   ],
   "source": [
    "print(sequence.count('b'))"
   ]
  },
  {
   "cell_type": "markdown",
   "metadata": {},
   "source": [
    "# Strings"
   ]
  },
  {
   "cell_type": "markdown",
   "metadata": {},
   "source": [
    "## Strings\n",
    "Strings are a group of characters written inside a single or double-quotes. Python does not have a character type so a single character inside quotes is also considered as a string. Strings are immutable in nature so we can reassign a variable to a new string but we can’t make any changes in the string."
   ]
  },
  {
   "cell_type": "code",
   "execution_count": 38,
   "metadata": {},
   "outputs": [
    {
     "name": "stdout",
     "output_type": "stream",
     "text": [
      "This is a string.\n",
      "This is also a string.\n",
      "I told my friend, \"Python is my favorite language!\"\n",
      "The language 'Python' is named after Monty Python, not the snake.\n"
     ]
    }
   ],
   "source": [
    "print(\"This is a string.\")\n",
    "print('This is also a string.')\n",
    "print('I told my friend, \"Python is my favorite language!\"')\n",
    "print(\"The language 'Python' is named after Monty Python, not the snake.\")"
   ]
  },
  {
   "cell_type": "markdown",
   "metadata": {},
   "source": [
    "*Strings are immutable*. This means that elements of a string cannot be changed once they have been assigned. \n",
    "We can only assign different values to the same reference (i.e., the old object is discarded).\n",
    "We cannot delete or remove characters from a string. But deleting the string entirely is possible using the del keyword."
   ]
  },
  {
   "cell_type": "code",
   "execution_count": 39,
   "metadata": {
    "tags": []
   },
   "outputs": [],
   "source": [
    "name = 'python'\n",
    "# name[2] = 'a'\n",
    "# TypeError: 'str' object does not support item assignment"
   ]
  },
  {
   "cell_type": "markdown",
   "metadata": {},
   "source": [
    "## Accessing characters\n",
    "Individual characters can be accessed using *indexing*, *negative indexing*, and *slicing*. Index starts both from 0 and -1. Access a character out of index range raises IndexError. Using not-integer index raises TypeError. Concerning negative indexing, the index of -1 refers to the last item, -2 to the second last item and so on. We can also access a range of items in a string by using the slicing operator :(colon)."
   ]
  },
  {
   "cell_type": "code",
   "execution_count": 40,
   "metadata": {},
   "outputs": [
    {
     "name": "stdout",
     "output_type": "stream",
     "text": [
      "o\n",
      "r\n",
      "g\n",
      "n\n",
      "oop\n",
      "grammi\n",
      "rogramming\n",
      "ooprogramming\n"
     ]
    }
   ],
   "source": [
    "name = 'ooprogramming'\n",
    "# indexing\n",
    "print(name[0])\n",
    "print(name[3])\n",
    "\n",
    "# negative indexing\n",
    "print(name[-1])\n",
    "print(name[-2])\n",
    "\n",
    "# slicing\n",
    "print(name[0:3])\n",
    "print(name[5:-2])\n",
    "print(name[3:])\n",
    "print(name[:])"
   ]
  },
  {
   "cell_type": "markdown",
   "metadata": {},
   "source": [
    "## Combining Strings"
   ]
  },
  {
   "cell_type": "markdown",
   "metadata": {},
   "source": [
    "Explicit casting is required when mixing numeric literals and string literals.\n",
    "Alternatively, use string formatting techniques."
   ]
  },
  {
   "cell_type": "code",
   "execution_count": 41,
   "metadata": {},
   "outputs": [
    {
     "name": "stdout",
     "output_type": "stream",
     "text": [
      "Happy 26th Birthday!\n",
      "Happy 26th Birthday!\n"
     ]
    }
   ],
   "source": [
    "age = 26 \n",
    "# print('Happy ' + age + 'th Birthday!') \n",
    "# TypeError: must be str, not int\n",
    "print('Happy ' + str(age) + 'th Birthday!')\n",
    "print('Happy {}th Birthday!'.format(age))"
   ]
  },
  {
   "cell_type": "markdown",
   "metadata": {},
   "source": [
    "## Formatting Strings"
   ]
  },
  {
   "cell_type": "code",
   "execution_count": 42,
   "metadata": {},
   "outputs": [
    {
     "name": "stdout",
     "output_type": "stream",
     "text": [
      "bicocchi nicola\n",
      "nicola     bicocchi  \n",
      "0.3333 0.6667\n",
      "0.333333 0.666667\n",
      "000000.3 000000.7\n"
     ]
    }
   ],
   "source": [
    "# re-arranging the order of arguments\n",
    "print('{1} {0}'.format('nicola', 'bicocchi'))\n",
    "\n",
    "# padding up to 10 spaces\n",
    "print('{:10} {:10}'.format('nicola', 'bicocchi'))\n",
    "\n",
    "# specifying 4 digits precision\n",
    "print('{:.4f} {:.4f}'.format(1 / 3, 2 / 3))\n",
    "\n",
    "# padding up to 8 spaces, 6 digits precision\n",
    "print('{:08.6f} {:08.6f}'.format(1 / 3, 2 / 3))\n",
    "\n",
    "# padding up to 8 spaces, 1 digit precision\n",
    "print('{:08.1f} {:08.1f}'.format(1 / 3, 2 / 3))"
   ]
  },
  {
   "cell_type": "markdown",
   "metadata": {},
   "source": [
    "## Dealing with whitespaces"
   ]
  },
  {
   "cell_type": "code",
   "execution_count": 43,
   "metadata": {},
   "outputs": [
    {
     "name": "stdout",
     "output_type": "stream",
     "text": [
      "' python'\n",
      "'python '\n",
      "'python'\n",
      "'    python'\n",
      "'python    '\n",
      "'  python  '\n"
     ]
    }
   ],
   "source": [
    "name = ' python '\n",
    "print('\\'{}\\''.format(name.rstrip()))\n",
    "print('\\'{}\\''.format(name.lstrip()))\n",
    "print('\\'{}\\''.format(name.strip()))\n",
    "\n",
    "name = 'python'\n",
    "print('\\'{}\\''.format(name.rjust(10)))\n",
    "print('\\'{}\\''.format(name.ljust(10)))\n",
    "print('\\'{}\\''.format(name.center(10)))"
   ]
  },
  {
   "cell_type": "markdown",
   "metadata": {},
   "source": [
    "## Dealing with cases"
   ]
  },
  {
   "cell_type": "code",
   "execution_count": 44,
   "metadata": {},
   "outputs": [
    {
     "name": "stdout",
     "output_type": "stream",
     "text": [
      "ADA LOVELACE\n",
      "ada lovelace\n",
      "Ada lovelace\n",
      "Ada Lovelace\n",
      "False\n",
      "False\n",
      "True\n"
     ]
    }
   ],
   "source": [
    "name = 'Ada Lovelace'\n",
    "print(name.upper())\n",
    "print(name.lower())\n",
    "print(name.capitalize())\n",
    "print(name.title())\n",
    "print(name.islower())\n",
    "print(name.isupper())\n",
    "print(name.istitle())"
   ]
  },
  {
   "cell_type": "markdown",
   "metadata": {},
   "source": [
    "## Finding and replacing substrings"
   ]
  },
  {
   "cell_type": "markdown",
   "metadata": {},
   "source": [
    "If you want to know where a substring appears in a string, you can use the *find()* method. The *find()* method tells you the index at which the substring begins. Note, however, that this function only returns the index of the first appearance of the substring you are looking for. If the substring appears more than once, you will miss the other substrings."
   ]
  },
  {
   "cell_type": "code",
   "execution_count": 45,
   "metadata": {
    "collapsed": false,
    "jupyter": {
     "outputs_hidden": false
    }
   },
   "outputs": [
    {
     "name": "stdout",
     "output_type": "stream",
     "text": [
      "16\n"
     ]
    }
   ],
   "source": [
    "message = 'I like cats and dogs, but I\\'d much rather own a dog.'\n",
    "dog_index = message.find('dog')\n",
    "print(dog_index)"
   ]
  },
  {
   "cell_type": "markdown",
   "metadata": {},
   "source": [
    "If you want to find the last appearance of a substring, you can use the *rfind()* function:"
   ]
  },
  {
   "cell_type": "code",
   "execution_count": 46,
   "metadata": {
    "collapsed": false,
    "jupyter": {
     "outputs_hidden": false
    }
   },
   "outputs": [
    {
     "name": "stdout",
     "output_type": "stream",
     "text": [
      "48\n"
     ]
    }
   ],
   "source": [
    "message = 'I like cats and dogs, but I\\'d much rather own a dog.'\n",
    "last_dog_index = message.rfind('dog')\n",
    "print(last_dog_index)"
   ]
  },
  {
   "cell_type": "markdown",
   "metadata": {},
   "source": [
    "You can use the *replace()* function to replace any substring with another substring. To use the *replace()* function, give the substring you want to replace, and then the substring you want to replace it with. You also need to store the new string, either in the same string variable or in a new variable."
   ]
  },
  {
   "cell_type": "code",
   "execution_count": 47,
   "metadata": {
    "collapsed": false,
    "jupyter": {
     "outputs_hidden": false
    }
   },
   "outputs": [
    {
     "name": "stdout",
     "output_type": "stream",
     "text": [
      "I like cats and snakes, but I'd much rather own a snake.\n"
     ]
    }
   ],
   "source": [
    "message = 'I like cats and dogs, but I\\'d much rather own a dog.'\n",
    "message = message.replace('dog', 'snake')\n",
    "print(message)"
   ]
  },
  {
   "cell_type": "markdown",
   "metadata": {},
   "source": [
    "## Splitting and joining strings\n",
    "Strings can be split into a set of substrings when they are separated by a repeated character. If a string consists of a simple sentence, the string can be split based on spaces. The *split()* function returns a list of substrings. The *split()* function takes one argument, the character that separates the parts of the string."
   ]
  },
  {
   "cell_type": "code",
   "execution_count": 144,
   "metadata": {
    "collapsed": false,
    "jupyter": {
     "outputs_hidden": false
    }
   },
   "outputs": [
    {
     "name": "stdout",
     "output_type": "stream",
     "text": [
      "['dog', ' cat', ' tiger', ' mouse', ' bear']\n",
      "['dog', 'cat', 'tiger', 'mouse', 'bear']\n"
     ]
    }
   ],
   "source": [
    "# From string to list\n",
    "animals = 'dog, cat, tiger, mouse, bear'\n",
    "print(animals.split(','))\n",
    "print(animals.split(', '))"
   ]
  },
  {
   "cell_type": "code",
   "execution_count": 145,
   "metadata": {},
   "outputs": [
    {
     "name": "stdout",
     "output_type": "stream",
     "text": [
      "dog, cat, tiger, mouse, bear\n"
     ]
    }
   ],
   "source": [
    "# From list to string\n",
    "# Don't do this!\n",
    "animals = ['dog', 'cat', 'tiger', 'mouse', 'bear']\n",
    "semicolon_separated = animals[0]\n",
    "for animal in animals[1:]:\n",
    "    semicolon_separated += ', ' + animal\n",
    "print(semicolon_separated)"
   ]
  },
  {
   "cell_type": "code",
   "execution_count": 146,
   "metadata": {},
   "outputs": [
    {
     "name": "stdout",
     "output_type": "stream",
     "text": [
      "dog, cat, tiger, mouse, bear\n"
     ]
    }
   ],
   "source": [
    "# From list to string\n",
    "# Do this!\n",
    "animals = ['dog', 'cat', 'tiger', 'mouse', 'bear']\n",
    "print(', '.join(animals))"
   ]
  },
  {
   "cell_type": "markdown",
   "metadata": {},
   "source": [
    "# Flow control"
   ]
  },
  {
   "cell_type": "markdown",
   "metadata": {},
   "source": [
    "## if .. else\n",
    "The if..else statement evaluates a boolean condition. If the condition is True, the body of if is executed. If the condition is False, the body of else is executed. Mandatory indentation is used to separate the blocks."
   ]
  },
  {
   "cell_type": "code",
   "execution_count": 51,
   "metadata": {},
   "outputs": [
    {
     "name": "stdout",
     "output_type": "stream",
     "text": [
      "15 > 0\n"
     ]
    }
   ],
   "source": [
    "n = 15\n",
    "if n > 0:\n",
    "    print('{} > 0'.format(n))\n",
    "else:\n",
    "    print('{} <= 0'.format(n))"
   ]
  },
  {
   "cell_type": "markdown",
   "metadata": {},
   "source": [
    "## if .. elif .. else\n",
    "The elif is short for else if. It allows us to check for multiple conditions. If the condition for if is False, it checks the condition of the next elif block and so on. If all the conditions are False, the body of else is executed. Only one block among the several if...elif...else blocks is executed according to the condition. The if block can have only one else block. But it can have multiple elif blocks."
   ]
  },
  {
   "cell_type": "code",
   "execution_count": 52,
   "metadata": {},
   "outputs": [
    {
     "name": "stdout",
     "output_type": "stream",
     "text": [
      "5 > 0\n"
     ]
    }
   ],
   "source": [
    "n = 5\n",
    "if n > 0:\n",
    "    print('{} > 0'.format(n))\n",
    "elif n < 0:\n",
    "    print('{} < 0'.format(n))\n",
    "else:\n",
    "    print('{} == 0'.format(n))"
   ]
  },
  {
   "cell_type": "markdown",
   "metadata": {},
   "source": [
    "## Comparison operators\n",
    "Every if statement evaluates to *True* or *False*. *True* and *False* are Python keywords, which have special meanings attached to them. You can test a number of conditions in your if statements. The most frequently used are listed below. There is a [section of PEP 8](http://www.python.org/dev/peps/pep-0008/#other-recommendations) that tells us it's a good idea to put a single space on either side of all of these comparison operators."
   ]
  },
  {
   "cell_type": "code",
   "execution_count": 171,
   "metadata": {},
   "outputs": [
    {
     "name": "stdout",
     "output_type": "stream",
     "text": [
      "True\n",
      "False\n"
     ]
    }
   ],
   "source": [
    "a = (2,3,4)\n",
    "b = (2,3,4)\n",
    "\n",
    "# == compares objects content\n",
    "print(a == b)\n",
    "\n",
    "# is compares references (objects identity)\n",
    "print(a is b)"
   ]
  },
  {
   "cell_type": "code",
   "execution_count": 175,
   "metadata": {},
   "outputs": [
    {
     "name": "stdout",
     "output_type": "stream",
     "text": [
      "True\n",
      "True\n"
     ]
    }
   ],
   "source": [
    "# Some immutable objects (str, int, ...) are transparently optimized (like Strings in Java)\n",
    "a = 'SR71'\n",
    "b = 'SR71'\n",
    "\n",
    "# == compares objects content\n",
    "print(a == b)\n",
    "\n",
    "# is compares references (objects identity)\n",
    "print(a is b)"
   ]
  },
  {
   "cell_type": "code",
   "execution_count": 53,
   "metadata": {
    "collapsed": false,
    "jupyter": {
     "outputs_hidden": false
    }
   },
   "outputs": [
    {
     "data": {
      "text/plain": [
       "False"
      ]
     },
     "execution_count": 53,
     "metadata": {},
     "output_type": "execute_result"
    }
   ],
   "source": [
    "5 == 4"
   ]
  },
  {
   "cell_type": "code",
   "execution_count": 54,
   "metadata": {
    "collapsed": false,
    "jupyter": {
     "outputs_hidden": false
    }
   },
   "outputs": [
    {
     "data": {
      "text/plain": [
       "True"
      ]
     },
     "execution_count": 54,
     "metadata": {},
     "output_type": "execute_result"
    }
   ],
   "source": [
    "5 == 5.0"
   ]
  },
  {
   "cell_type": "code",
   "execution_count": 55,
   "metadata": {
    "collapsed": false,
    "jupyter": {
     "outputs_hidden": false
    }
   },
   "outputs": [
    {
     "data": {
      "text/plain": [
       "True"
      ]
     },
     "execution_count": 55,
     "metadata": {},
     "output_type": "execute_result"
    }
   ],
   "source": [
    "'Eric'.lower() == 'eric'.lower()"
   ]
  },
  {
   "cell_type": "code",
   "execution_count": 56,
   "metadata": {
    "collapsed": false,
    "jupyter": {
     "outputs_hidden": false
    }
   },
   "outputs": [
    {
     "data": {
      "text/plain": [
       "True"
      ]
     },
     "execution_count": 56,
     "metadata": {},
     "output_type": "execute_result"
    }
   ],
   "source": [
    "'5' == str(5)"
   ]
  },
  {
   "cell_type": "code",
   "execution_count": 57,
   "metadata": {
    "collapsed": false,
    "jupyter": {
     "outputs_hidden": false
    }
   },
   "outputs": [
    {
     "data": {
      "text/plain": [
       "True"
      ]
     },
     "execution_count": 57,
     "metadata": {},
     "output_type": "execute_result"
    }
   ],
   "source": [
    "3 != 5"
   ]
  },
  {
   "cell_type": "code",
   "execution_count": 58,
   "metadata": {
    "collapsed": false,
    "jupyter": {
     "outputs_hidden": false
    }
   },
   "outputs": [
    {
     "data": {
      "text/plain": [
       "True"
      ]
     },
     "execution_count": 58,
     "metadata": {},
     "output_type": "execute_result"
    }
   ],
   "source": [
    "'Eric' != 'eric'"
   ]
  },
  {
   "cell_type": "code",
   "execution_count": 59,
   "metadata": {
    "collapsed": false,
    "jupyter": {
     "outputs_hidden": false
    }
   },
   "outputs": [
    {
     "data": {
      "text/plain": [
       "True"
      ]
     },
     "execution_count": 59,
     "metadata": {},
     "output_type": "execute_result"
    }
   ],
   "source": [
    "5 > 3"
   ]
  },
  {
   "cell_type": "code",
   "execution_count": 60,
   "metadata": {
    "collapsed": false,
    "jupyter": {
     "outputs_hidden": false
    }
   },
   "outputs": [
    {
     "data": {
      "text/plain": [
       "True"
      ]
     },
     "execution_count": 60,
     "metadata": {},
     "output_type": "execute_result"
    }
   ],
   "source": [
    "3 >= 3"
   ]
  },
  {
   "cell_type": "code",
   "execution_count": 61,
   "metadata": {
    "collapsed": false,
    "jupyter": {
     "outputs_hidden": false
    }
   },
   "outputs": [
    {
     "data": {
      "text/plain": [
       "True"
      ]
     },
     "execution_count": 61,
     "metadata": {},
     "output_type": "execute_result"
    }
   ],
   "source": [
    "3 < 5"
   ]
  },
  {
   "cell_type": "code",
   "execution_count": 62,
   "metadata": {
    "collapsed": false,
    "jupyter": {
     "outputs_hidden": false
    }
   },
   "outputs": [
    {
     "data": {
      "text/plain": [
       "True"
      ]
     },
     "execution_count": 62,
     "metadata": {},
     "output_type": "execute_result"
    }
   ],
   "source": [
    "3 <= 5"
   ]
  },
  {
   "cell_type": "code",
   "execution_count": 161,
   "metadata": {},
   "outputs": [
    {
     "data": {
      "text/plain": [
       "True"
      ]
     },
     "execution_count": 161,
     "metadata": {},
     "output_type": "execute_result"
    }
   ],
   "source": [
    "vowels = 'aeiou'\n",
    "'a' in vowels"
   ]
  },
  {
   "cell_type": "code",
   "execution_count": 167,
   "metadata": {
    "collapsed": false,
    "jupyter": {
     "outputs_hidden": false
    }
   },
   "outputs": [
    {
     "data": {
      "text/plain": [
       "True"
      ]
     },
     "execution_count": 167,
     "metadata": {},
     "output_type": "execute_result"
    }
   ],
   "source": [
    "vowels = ['a', 'e', 'i', 'o', 'u']\n",
    "'a' in vowels"
   ]
  },
  {
   "cell_type": "markdown",
   "metadata": {},
   "source": [
    "## Logical operators"
   ]
  },
  {
   "cell_type": "code",
   "execution_count": 158,
   "metadata": {},
   "outputs": [
    {
     "name": "stdout",
     "output_type": "stream",
     "text": [
      "11 > 5 and 11 > 10\n",
      "11 < 5 or 11 > 10\n"
     ]
    }
   ],
   "source": [
    "x = 11\n",
    "\n",
    "# and\n",
    "if x > 5 and x > 10:\n",
    "    print('{} > 5 and {} > 10'.format(x, x))\n",
    "\n",
    "# or\n",
    "if x < 5 or x > 10:\n",
    "    print('{} < 5 or {} > 10'.format(x, x))\n",
    "    \n",
    "# not\n",
    "if not x > 10:\n",
    "    print('not {} > 10'.format(x))\n",
    "    "
   ]
  },
  {
   "cell_type": "markdown",
   "metadata": {},
   "source": [
    "## for loop\n",
    "The for loop in Python is used to iterate over sequences or other iterable objects (e.g., bytearrays, buffers). Iterating over a sequence is called traversal. *char* is the variable that takes the value of each item inside the sequence on each iteration. The iteration continues until the end of the sequence is reached. The body of for loop is separated from the rest of the code using indentation. "
   ]
  },
  {
   "cell_type": "code",
   "execution_count": 65,
   "metadata": {},
   "outputs": [
    {
     "name": "stdout",
     "output_type": "stream",
     "text": [
      "p\n",
      "y\n",
      "t\n",
      "h\n",
      "o\n",
      "n\n"
     ]
    }
   ],
   "source": [
    "string = 'python'\n",
    "\n",
    "for char in string:\n",
    "    print(char)"
   ]
  },
  {
   "cell_type": "markdown",
   "metadata": {},
   "source": [
    "A for loop can have an optional *else* block as well. The else part is executed when the loop terminates. "
   ]
  },
  {
   "cell_type": "code",
   "execution_count": 66,
   "metadata": {},
   "outputs": [
    {
     "name": "stdout",
     "output_type": "stream",
     "text": [
      "p\n",
      "y\n",
      "t\n",
      "h\n",
      "o\n",
      "n\n",
      "terminated\n"
     ]
    }
   ],
   "source": [
    "string = 'python'\n",
    "\n",
    "for char in string:\n",
    "    print(char)\n",
    "else:\n",
    "    print('terminated')"
   ]
  },
  {
   "cell_type": "markdown",
   "metadata": {},
   "source": [
    "The *break* keyword can be used to stop a for loop. In such cases, the else part is ignored. Control of the program flows to the statement immediately after the body of the loop. If the break statement is inside a nested loop (loop inside another loop), the break statement will terminate the innermost loop."
   ]
  },
  {
   "cell_type": "code",
   "execution_count": 67,
   "metadata": {},
   "outputs": [
    {
     "name": "stdout",
     "output_type": "stream",
     "text": [
      "p\n",
      "y\n",
      "t\n"
     ]
    }
   ],
   "source": [
    "string = 'python'\n",
    "\n",
    "for char in string:\n",
    "    if char == 'h':\n",
    "        break\n",
    "    print(char)\n",
    "else:\n",
    "    print('for terminated')"
   ]
  },
  {
   "cell_type": "markdown",
   "metadata": {},
   "source": [
    "The *continue* statement is used to skip the rest of the code inside a loop for the current iteration only. Loop does not terminate but continues on with the next iteration."
   ]
  },
  {
   "cell_type": "code",
   "execution_count": 68,
   "metadata": {},
   "outputs": [
    {
     "name": "stdout",
     "output_type": "stream",
     "text": [
      "p\n",
      "y\n",
      "t\n",
      "o\n",
      "n\n",
      "for terminated\n"
     ]
    }
   ],
   "source": [
    "string = 'python'\n",
    "\n",
    "for char in string:\n",
    "    if char == 'h':\n",
    "        continue\n",
    "    print(char)\n",
    "else:\n",
    "    print('for terminated')"
   ]
  },
  {
   "cell_type": "markdown",
   "metadata": {},
   "source": [
    "## while loop\n",
    "The while loop is used to iterate  as long as the test expression (condition) is true.\n",
    "Generally used when the number of times to iterate is unknown beforehand."
   ]
  },
  {
   "cell_type": "code",
   "execution_count": 179,
   "metadata": {},
   "outputs": [
    {
     "name": "stdout",
     "output_type": "stream",
     "text": [
      "sum=55\n"
     ]
    }
   ],
   "source": [
    "i = 0\n",
    "n = 10\n",
    "sum = 0\n",
    "\n",
    "while i <= n:\n",
    "    sum = sum + i\n",
    "    i += 1 \n",
    "    \n",
    "print('sum={}'.format(sum))"
   ]
  },
  {
   "cell_type": "markdown",
   "metadata": {},
   "source": [
    "While loops can also have an optional else block.\n",
    "The else part is executed when the loop terminates.\n",
    "The while loop can be terminated with a break statement. In such cases, the else part is ignored. "
   ]
  },
  {
   "cell_type": "code",
   "execution_count": 180,
   "metadata": {},
   "outputs": [
    {
     "name": "stdout",
     "output_type": "stream",
     "text": [
      "sum=55\n"
     ]
    }
   ],
   "source": [
    "i = 0\n",
    "n = 10\n",
    "sum = 0\n",
    "\n",
    "while i <= n:\n",
    "    sum = sum + i\n",
    "    i += 1\n",
    "else:\n",
    "    print('sum={}'.format(sum))"
   ]
  },
  {
   "cell_type": "markdown",
   "metadata": {},
   "source": [
    "## pass\n",
    "The pass statement is a null statement. The difference between a comment and a pass statement in Python is that while the interpreter ignores a comment entirely, pass is not ignored. However, nothing happens when the pass is executed. It results in no operation (NOP)."
   ]
  },
  {
   "cell_type": "code",
   "execution_count": 71,
   "metadata": {},
   "outputs": [],
   "source": [
    "for val in 'python':\n",
    "    pass\n",
    "\n",
    "def function(args):\n",
    "    pass\n",
    "\n",
    "class Example:\n",
    "    pass"
   ]
  },
  {
   "cell_type": "markdown",
   "metadata": {},
   "source": [
    "# Functions"
   ]
  },
  {
   "cell_type": "markdown",
   "metadata": {},
   "source": [
    "## General Syntax\n",
    "Functions much improve code reuse. Functions, in fact, can be used an reused. A general function looks something like this:"
   ]
  },
  {
   "cell_type": "code",
   "execution_count": 72,
   "metadata": {},
   "outputs": [],
   "source": [
    "def function_name(arg_1, arg_2):\n",
    "    pass\n",
    "\n",
    "function_name('a', 'b')"
   ]
  },
  {
   "cell_type": "markdown",
   "metadata": {},
   "source": [
    "## Passing parameters\n",
    "*All parameters (arguments) in the Python language are passed by reference*. It means if you change what a parameter refers to within a function, the change also reflects back in the calling function. [Python Tutor](http://www.pythontutor.com/) could be of much help for understanding how these examples work."
   ]
  },
  {
   "cell_type": "code",
   "execution_count": 73,
   "metadata": {},
   "outputs": [
    {
     "name": "stdout",
     "output_type": "stream",
     "text": [
      "[1, 2, 3]\n",
      "[1, 2, 3, 4, 5, 6]\n"
     ]
    }
   ],
   "source": [
    "def change_list(numbers):\n",
    "    numbers.extend([4, 5, 6])\n",
    "    return\n",
    "\n",
    "numbers = [1, 2, 3]\n",
    "print(numbers)\n",
    "change_list(numbers)\n",
    "print(numbers)"
   ]
  },
  {
   "cell_type": "markdown",
   "metadata": {},
   "source": [
    "An example where argument is being passed by reference and the reference is being overwritten inside the called function (i.e., the reference COPY is overwritten). The parameter numbers is local to the function. Changing numbers within the function does not affect the caller. "
   ]
  },
  {
   "cell_type": "code",
   "execution_count": 181,
   "metadata": {},
   "outputs": [
    {
     "name": "stdout",
     "output_type": "stream",
     "text": [
      "[1, 2, 3]\n",
      "[1, 2, 3]\n"
     ]
    }
   ],
   "source": [
    "def change_list(numbers):\n",
    "    numbers = [4, 5, 6]\n",
    "    return\n",
    "\n",
    "numbers = [1, 2, 3]\n",
    "print(numbers)\n",
    "change_list(numbers)\n",
    "print(numbers)"
   ]
  },
  {
   "cell_type": "markdown",
   "metadata": {},
   "source": [
    "## Default Arguments\n",
    "Function arguments can have default values. We can provide a default value to an argument by using the assignment operator (=). Any number of arguments in a function can have a default value. Once we have a default argument, all the arguments to its right must also have default values."
   ]
  },
  {
   "cell_type": "code",
   "execution_count": 183,
   "metadata": {},
   "outputs": [
    {
     "name": "stdout",
     "output_type": "stream",
     "text": [
      "Hello Bruce, How are you doing?\n",
      "Hello Kate, Good morning!\n"
     ]
    }
   ],
   "source": [
    "def greet(name, msg='Good morning!'):\n",
    "    print('Hello {}, {}'.format(name, msg))\n",
    "\n",
    "greet('Bruce', 'How are you doing?')\n",
    "greet('Kate')"
   ]
  },
  {
   "cell_type": "markdown",
   "metadata": {},
   "source": [
    "## Keyword Arguments\n",
    "Python allows functions to be called using keyword arguments. When we call functions in this way, the order (position) of the arguments can be changed. We can mix positional arguments with keyword arguments during a function call. We must keep in mind that *keyword arguments must follow positional arguments*."
   ]
  },
  {
   "cell_type": "code",
   "execution_count": 184,
   "metadata": {},
   "outputs": [
    {
     "name": "stdout",
     "output_type": "stream",
     "text": [
      "Hello Bruce, How do you do?\n",
      "Hello Bruce, How do you do?\n",
      "Hello Bruce, How do you do?\n"
     ]
    }
   ],
   "source": [
    "# 2 keyword arguments (in order)\n",
    "greet(name = 'Bruce', msg = 'How do you do?')\n",
    "\n",
    "# 2 keyword arguments (out of order)\n",
    "greet(msg = 'How do you do?', name = 'Bruce') \n",
    "\n",
    "# 1 positional, 1 keyword argument\n",
    "greet('Bruce', msg = 'How do you do?') \n",
    "\n",
    "# greet(name='Bruce', 'How do you do?')\n",
    "# SyntaxError: positional argument follows keyword argument"
   ]
  },
  {
   "cell_type": "code",
   "execution_count": 189,
   "metadata": {},
   "outputs": [
    {
     "name": "stdout",
     "output_type": "stream",
     "text": [
      "[1, 2, 3] lines=None, chart_type=None, borders=None, shadows=None\n",
      "[1, 2, 3] lines=3, chart_type=None, borders=None, shadows=None\n",
      "[1, 2, 3] lines=3, chart_type=None, borders=None, shadows=4\n",
      "[1, 2, 3] lines=2, chart_type=None, borders=None, shadows=4\n"
     ]
    }
   ],
   "source": [
    "def generate_char(data, lines=None, chart_type=None, borders=None, shadows=None):\n",
    "    print('{} lines={}, chart_type={}, borders={}, shadows={}'.format(\n",
    "        data, lines, chart_type, borders, shadows))\n",
    "    \n",
    "generate_char([1,2,3])\n",
    "generate_char([1,2,3], lines=3)\n",
    "generate_char([1,2,3], lines=3, shadows=4)\n",
    "generate_char([1,2,3], shadows=4, lines=2)"
   ]
  },
  {
   "cell_type": "markdown",
   "metadata": {},
   "source": [
    "## Arbitrary Arguments\n",
    "Sometimes, we do not know in advance the number of arguments that will be passed into a function. Python allows us to handle this kind of situation through function calls with an arbitrary number of arguments. In the function definition, we use an asterisk (\\*) before the parameter name to denote this kind of argument. These arguments get wrapped up into a tuple before being passed into the function. Inside the function, we use a for loop to retrieve all the arguments back."
   ]
  },
  {
   "cell_type": "code",
   "execution_count": 77,
   "metadata": {},
   "outputs": [
    {
     "name": "stdout",
     "output_type": "stream",
     "text": [
      "Hello Monica\n",
      "Hello Luke\n",
      "Hello Steve\n",
      "Hello John\n",
      "Hello Sven\n"
     ]
    }
   ],
   "source": [
    "def greet(*args):\n",
    "    # names is a tuple\n",
    "    for arg in args:\n",
    "        print('Hello', arg)\n",
    "\n",
    "if __name__ == '__main__':\n",
    "    greet('Monica', 'Luke', 'Steve', 'John', 'Sven')"
   ]
  },
  {
   "cell_type": "code",
   "execution_count": 78,
   "metadata": {},
   "outputs": [
    {
     "name": "stdout",
     "output_type": "stream",
     "text": [
      "3\n",
      "15\n"
     ]
    }
   ],
   "source": [
    "def adder(num_1, num_2, *args):\n",
    "    sum = num_1 + num_2\n",
    "    \n",
    "    for arg in args:\n",
    "        sum = sum + arg\n",
    "    return sum\n",
    "    \n",
    "print(adder(1, 2))\n",
    "print(adder(1, 2, 3, 4, 5))"
   ]
  },
  {
   "cell_type": "markdown",
   "metadata": {},
   "source": [
    "## Arbitrary keyword arguments\n",
    "Python also provides a syntax for accepting an arbitrary number of keyword arguments. The syntax looks like below. The third argument has two asterisks in front of it, which tells Python to collect all remaining key-value arguments in the calling statement. This argument is commonly named *kwargs*. We see in the output that these key-values are stored in a dictionary. We can loop through this dictionary to work with all of the values that are passed into the function:"
   ]
  },
  {
   "cell_type": "code",
   "execution_count": 193,
   "metadata": {},
   "outputs": [
    {
     "name": "stdout",
     "output_type": "stream",
     "text": [
      "a\n",
      "b\n",
      "kwarg_1 = abc\n",
      "kwarg_2 = def\n"
     ]
    }
   ],
   "source": [
    "def example_function(arg_1, arg_2, **kwargs):\n",
    "    print(arg_1)\n",
    "    print(arg_2)\n",
    "    for key, value in kwargs.items():\n",
    "        print('{} = {}'.format(key, value))\n",
    "    \n",
    "#example_function('a', 'b')\n",
    "example_function('a', 'b', kwarg_1='abc', kwarg_2='def')"
   ]
  },
  {
   "cell_type": "code",
   "execution_count": 194,
   "metadata": {},
   "outputs": [
    {
     "name": "stdout",
     "output_type": "stream",
     "text": [
      "a\n",
      "b\n",
      "c\n",
      "kwarg_1 = abc\n",
      "kwarg_2 = def\n",
      "kwarg_3 = ghi\n"
     ]
    }
   ],
   "source": [
    "def example_function(*args, **kwargs):\n",
    "    for arg in args:\n",
    "        print(arg)\n",
    "    for key, value in kwargs.items():\n",
    "        print('{} = {}'.format(key, value))\n",
    "    \n",
    "example_function()\n",
    "example_function('a', 'b', 'c', kwarg_1='abc', kwarg_2='def', kwarg_3='ghi')"
   ]
  },
  {
   "cell_type": "markdown",
   "metadata": {},
   "source": [
    "## Lambda expressions\n",
    "\n",
    "Small anonymous functions can be created with the *lambda* keyword. Lambda functions can be used wherever function objects are required. They are syntactically restricted to a single expression. Semantically, they are just syntactic sugar for a normal function definition. "
   ]
  },
  {
   "cell_type": "code",
   "execution_count": 196,
   "metadata": {},
   "outputs": [
    {
     "name": "stdout",
     "output_type": "stream",
     "text": [
      "1 1.0\n",
      "2 1.4142135623730951\n",
      "3 1.7320508075688772\n",
      "1 1.0\n",
      "2 1.4142135623730951\n",
      "3 1.7320508075688772\n"
     ]
    }
   ],
   "source": [
    "import math\n",
    "\n",
    "def sqrt(x):\n",
    "    return math.sqrt(x)\n",
    "\n",
    "def log(x):\n",
    "    return math.log(x)\n",
    "\n",
    "def process(items, function):\n",
    "    for item in items:\n",
    "        print(item, function(item))\n",
    "    \n",
    "process([1,2,3], sqrt)\n",
    "process([1,2,3], lambda x : math.sqrt(x))"
   ]
  },
  {
   "cell_type": "code",
   "execution_count": 82,
   "metadata": {},
   "outputs": [
    {
     "data": {
      "text/plain": [
       "3"
      ]
     },
     "execution_count": 82,
     "metadata": {},
     "output_type": "execute_result"
    }
   ],
   "source": [
    "# one argument\n",
    "f = lambda x: x + 1\n",
    "f(2)"
   ]
  },
  {
   "cell_type": "code",
   "execution_count": 83,
   "metadata": {},
   "outputs": [
    {
     "data": {
      "text/plain": [
       "5"
      ]
     },
     "execution_count": 83,
     "metadata": {},
     "output_type": "execute_result"
    }
   ],
   "source": [
    "# two arguments\n",
    "f = lambda x, y: x + y\n",
    "f(2, 3)"
   ]
  },
  {
   "cell_type": "code",
   "execution_count": 84,
   "metadata": {},
   "outputs": [
    {
     "data": {
      "text/plain": [
       "5"
      ]
     },
     "execution_count": 84,
     "metadata": {},
     "output_type": "execute_result"
    }
   ],
   "source": [
    "# direct call\n",
    "(lambda x, y: x + y)(2, 3)"
   ]
  },
  {
   "cell_type": "code",
   "execution_count": 85,
   "metadata": {},
   "outputs": [
    {
     "data": {
      "text/plain": [
       "'Full name: Anna Pannocchia'"
      ]
     },
     "execution_count": 85,
     "metadata": {},
     "output_type": "execute_result"
    }
   ],
   "source": [
    "f = lambda first, last: 'Full name: {} {}'.format(first.title(), last.title())\n",
    "f('anna', 'pannocchia')"
   ]
  },
  {
   "cell_type": "code",
   "execution_count": 199,
   "metadata": {},
   "outputs": [
    {
     "name": "stdout",
     "output_type": "stream",
     "text": [
      "[(1, 'one'), (2, 'two'), (3, 'three'), (4, 'four')]\n",
      "[(4, 'four'), (1, 'one'), (3, 'three'), (2, 'two')]\n"
     ]
    }
   ],
   "source": [
    "pairs = [(1, 'one'), (2, 'two'), (3, 'three'), (4, 'four')]\n",
    "pairs.sort(key=lambda pair: pair[0])\n",
    "print(pairs)\n",
    "pairs.sort(key=lambda pair: pair[1])\n",
    "print(pairs)"
   ]
  },
  {
   "cell_type": "markdown",
   "metadata": {},
   "source": [
    "## Returning multiple values\n",
    "Python allows various ways for returning multiple values."
   ]
  },
  {
   "cell_type": "code",
   "execution_count": 87,
   "metadata": {},
   "outputs": [
    {
     "data": {
      "text/plain": [
       "(5, 9, -4)"
      ]
     },
     "execution_count": 87,
     "metadata": {},
     "output_type": "execute_result"
    }
   ],
   "source": [
    "# using a tuple\n",
    "def g(x):\n",
    "    y0 = x + 2\n",
    "    y1 = x * 3\n",
    "    y2 = y0 - y1\n",
    "    return (y0, y1, y2)\n",
    "\n",
    "g(3)"
   ]
  },
  {
   "cell_type": "code",
   "execution_count": 88,
   "metadata": {},
   "outputs": [
    {
     "data": {
      "text/plain": [
       "{'y0': 5, 'y1': 9, 'y2': -4}"
      ]
     },
     "execution_count": 88,
     "metadata": {},
     "output_type": "execute_result"
    }
   ],
   "source": [
    "# using a dictonary\n",
    "def g(x):\n",
    "    y0 = x + 2\n",
    "    y1 = x * 3\n",
    "    y2 = y0 - y1\n",
    "    return {'y0': y0, 'y1': y1 ,'y2': y2}\n",
    "\n",
    "g(3)"
   ]
  },
  {
   "cell_type": "code",
   "execution_count": 2,
   "metadata": {},
   "outputs": [
    {
     "name": "stdout",
     "output_type": "stream",
     "text": [
      "<__main__.ReturnValue object at 0x7fb7c607f550>\n"
     ]
    }
   ],
   "source": [
    "# using a class\n",
    "class ReturnValue:\n",
    "    def __init__(self, y0, y1, y2):\n",
    "        self.y0 = y0\n",
    "        self.y1 = y1\n",
    "        self.y2 = y2\n",
    "        \n",
    "    #def __repr__(self):\n",
    "    #    return str(self.__dict__)\n",
    "\n",
    "def g(x):\n",
    "    y0 = x + 2\n",
    "    y1 = x * 3\n",
    "    y2 = y0 - y1\n",
    "    return ReturnValue(y0, y1, y2)\n",
    "\n",
    "r = g(3)\n",
    "print(r)"
   ]
  },
  {
   "cell_type": "code",
   "execution_count": 3,
   "metadata": {},
   "outputs": [
    {
     "name": "stdout",
     "output_type": "stream",
     "text": [
      "ReturnValue(y0=5, y1=9, y2=-4)\n",
      "5 9 -4\n"
     ]
    }
   ],
   "source": [
    "# using dataclass (only 3.7+)\n",
    "# check https://www.youtube.com/watch?v=vRVVyl9uaZc for more details\n",
    "from dataclasses import dataclass\n",
    "\n",
    "@dataclass\n",
    "class ReturnValue:\n",
    "    y0: int\n",
    "    y1: int\n",
    "    y2: int\n",
    "        \n",
    "def g(x):\n",
    "    y0 = x + 2\n",
    "    y1 = x * 3\n",
    "    y2 = y0 - y1\n",
    "    return ReturnValue(y0, y1, y2)\n",
    "\n",
    "r = g(3)\n",
    "print(r)\n",
    "print('{} {} {}'.format(r.y0, r.y1, r.y2))"
   ]
  },
  {
   "cell_type": "markdown",
   "metadata": {},
   "source": [
    "# Decorators"
   ]
  },
  {
   "cell_type": "markdown",
   "metadata": {},
   "source": [
    "## Inner Functions\n",
    "It is possible to define functions inside other functions. Such functions are called inner functions. "
   ]
  },
  {
   "cell_type": "code",
   "execution_count": 91,
   "metadata": {},
   "outputs": [
    {
     "name": "stdout",
     "output_type": "stream",
     "text": [
      "parent() function\n",
      "first_child() function\n",
      "second_child() function\n"
     ]
    }
   ],
   "source": [
    "def parent():\n",
    "    def first_child():\n",
    "        print('first_child() function')\n",
    "\n",
    "    def second_child():\n",
    "        print('second_child() function')\n",
    "\n",
    "    print('parent() function')\n",
    "    first_child()\n",
    "    second_child()\n",
    "    \n",
    "parent()"
   ]
  },
  {
   "cell_type": "markdown",
   "metadata": {},
   "source": [
    "## Returning Functions From Functions\n",
    "Functions are objects and can be used as return values. "
   ]
  },
  {
   "cell_type": "code",
   "execution_count": 92,
   "metadata": {},
   "outputs": [
    {
     "name": "stdout",
     "output_type": "stream",
     "text": [
      "Hi, I am Emma\n",
      "Hi, I am Liam\n"
     ]
    }
   ],
   "source": [
    "def parent(n):\n",
    "    def first_child():\n",
    "        return 'Hi, I am Emma'\n",
    "\n",
    "    def second_child():\n",
    "        return 'Hi, I am Liam'\n",
    "\n",
    "    if n == 1:\n",
    "        return first_child\n",
    "    else:\n",
    "        return second_child\n",
    "\n",
    "# reference for a function object\n",
    "f = parent(1)\n",
    "print(f())\n",
    "\n",
    "# direct function call\n",
    "print(parent(2)())"
   ]
  },
  {
   "cell_type": "markdown",
   "metadata": {},
   "source": [
    "## Decorators as wrappers"
   ]
  },
  {
   "cell_type": "code",
   "execution_count": 5,
   "metadata": {},
   "outputs": [
    {
     "name": "stdout",
     "output_type": "stream",
     "text": [
      "Something is happening before the function is called.\n",
      "Whee!\n",
      "Something is happening after the function is called.\n"
     ]
    }
   ],
   "source": [
    "def my_decorator(func):\n",
    "    def wrapper():\n",
    "        print('Something is happening before the function is called.')\n",
    "        func()\n",
    "        print('Something is happening after the function is called.')\n",
    "    return wrapper\n",
    "\n",
    "def say_whee():\n",
    "    print('Whee!')\n",
    "\n",
    "#say_whee()\n",
    "    \n",
    "#f = my_decorator(say_whee)\n",
    "#f()\n",
    "\n",
    "# more concise\n",
    "my_decorator(say_whee)()"
   ]
  },
  {
   "cell_type": "markdown",
   "metadata": {},
   "source": [
    "## Pie (@) syntax\n",
    "The way we decorated say_whee() above is a little clunky. Python allows to use decorators in a simpler way with the @ symbol, sometimes called the *pie syntax*. The following example does the exact same thing as the first decorator example:"
   ]
  },
  {
   "cell_type": "code",
   "execution_count": 94,
   "metadata": {},
   "outputs": [
    {
     "name": "stdout",
     "output_type": "stream",
     "text": [
      "Something is happening before the function is called.\n",
      "Whee!\n",
      "Something is happening after the function is called.\n"
     ]
    }
   ],
   "source": [
    "def my_decorator(func):\n",
    "    def wrapper():\n",
    "        print('Something is happening before the function is called.')\n",
    "        func()\n",
    "        print('Something is happening after the function is called.')\n",
    "    return wrapper\n",
    "\n",
    "@my_decorator\n",
    "def say_whee():\n",
    "    print('Whee!')\n",
    "\n",
    "say_whee()"
   ]
  },
  {
   "cell_type": "markdown",
   "metadata": {},
   "source": [
    "## Passing arguments"
   ]
  },
  {
   "cell_type": "code",
   "execution_count": 95,
   "metadata": {},
   "outputs": [],
   "source": [
    "def do_twice(func):\n",
    "    def wrapper_do_twice():\n",
    "        func()\n",
    "        func()\n",
    "    return wrapper_do_twice\n",
    "\n",
    "@do_twice\n",
    "def say(name):\n",
    "    print(name)\n",
    "\n",
    "# say('ciao')\n",
    "# TypeError: wrapper_do_twice() takes 0 positional arguments but 1 was given"
   ]
  },
  {
   "cell_type": "markdown",
   "metadata": {},
   "source": [
    "The solution is to use *args* and *\\**kwargs* in the inner wrapper function. Then it will accept an arbitrary number of positional and keyword arguments. "
   ]
  },
  {
   "cell_type": "code",
   "execution_count": 96,
   "metadata": {},
   "outputs": [
    {
     "name": "stdout",
     "output_type": "stream",
     "text": [
      "Hello! Nicola Bicocchi\n",
      "Hello! Nicola Bicocchi\n"
     ]
    }
   ],
   "source": [
    "def do_twice(func):\n",
    "    def wrapper_do_twice(*args, **kwargs):\n",
    "        func(*args, **kwargs)\n",
    "        func(*args, **kwargs)\n",
    "    return wrapper_do_twice\n",
    "\n",
    "@do_twice\n",
    "def say(name, surname):\n",
    "    print(\"Hello! \" + name + \" \" + surname)\n",
    "    \n",
    "say('Nicola', 'Bicocchi')"
   ]
  },
  {
   "cell_type": "markdown",
   "metadata": {},
   "source": [
    "## Returning arguments"
   ]
  },
  {
   "cell_type": "code",
   "execution_count": 7,
   "metadata": {},
   "outputs": [
    {
     "name": "stdout",
     "output_type": "stream",
     "text": [
      "Creating greeting\n",
      "Creating greeting\n",
      "None\n"
     ]
    }
   ],
   "source": [
    "def do_twice(func):\n",
    "    def wrapper_do_twice(*args, **kwargs):\n",
    "        func(*args, **kwargs)\n",
    "        func(*args, **kwargs)\n",
    "    return wrapper_do_twice\n",
    "\n",
    "@do_twice\n",
    "def say(name):\n",
    "    print('Creating greeting')\n",
    "    return '{}!!'.format(name)\n",
    "\n",
    "print(say('hello'))"
   ]
  },
  {
   "cell_type": "markdown",
   "metadata": {},
   "source": [
    "To fix this, you need to make sure the wrapper function returns the return value of the decorated function. "
   ]
  },
  {
   "cell_type": "code",
   "execution_count": 98,
   "metadata": {},
   "outputs": [
    {
     "name": "stdout",
     "output_type": "stream",
     "text": [
      "Creating greeting\n",
      "Creating greeting\n",
      "hello!\n"
     ]
    }
   ],
   "source": [
    "def do_twice(func):\n",
    "    def wrapper_do_twice(*args, **kwargs):\n",
    "        func(*args, **kwargs)\n",
    "        return func(*args, **kwargs)\n",
    "    return wrapper_do_twice\n",
    "\n",
    "@do_twice\n",
    "def say(name):\n",
    "    print('Creating greeting')\n",
    "    return name + '!'\n",
    "\n",
    "print(say('hello'))"
   ]
  },
  {
   "cell_type": "markdown",
   "metadata": {},
   "source": [
    "# Exceptions"
   ]
  },
  {
   "cell_type": "markdown",
   "metadata": {},
   "source": [
    "## Definition\n",
    "When something goes wrong an exception is raised. For example, if you try to divide by zero, `ZeroDivisionError` is raised or if you try to access a nonexistent key in a dictionary, `KeyError` is raised."
   ]
  },
  {
   "cell_type": "code",
   "execution_count": 99,
   "metadata": {},
   "outputs": [],
   "source": [
    "empty_dict = {}\n",
    "\n",
    "# Uncomment to see the traceback\n",
    "# empty_dict['key']  "
   ]
  },
  {
   "cell_type": "markdown",
   "metadata": {},
   "source": [
    "## try - except\n",
    "If you know that a block of code can fail in some manner, you can use `try-except` structure to handle potential exceptions in a desired way."
   ]
  },
  {
   "cell_type": "code",
   "execution_count": 71,
   "metadata": {},
   "outputs": [
    {
     "name": "stdout",
     "output_type": "stream",
     "text": [
      "[Errno 2] No such file or directory: 'not_existing.txt'\n"
     ]
    }
   ],
   "source": [
    "# Let's try to open a file that does not exist\n",
    "file_name = 'not_existing.txt'\n",
    "\n",
    "try:\n",
    "    with open(file_name, 'r') as my_file:\n",
    "        print('File is successfully open') \n",
    "        \n",
    "except FileNotFoundError as e:\n",
    "    print(e)"
   ]
  },
  {
   "cell_type": "markdown",
   "metadata": {},
   "source": [
    "If you don't know the type of exceptions that a code block can possibly raise, you can use `Exception` which catches all exceptions. In addition, you can have multiple `except` statements."
   ]
  },
  {
   "cell_type": "code",
   "execution_count": 72,
   "metadata": {},
   "outputs": [
    {
     "name": "stdout",
     "output_type": "stream",
     "text": [
      "division by zero\n",
      "0.0\n",
      "unsupported operand type(s) for /: 'int' and 'str'\n",
      "0.0\n"
     ]
    }
   ],
   "source": [
    "def calculate_division(var1, var2):\n",
    "    result = 0.0\n",
    "    try:\n",
    "        result = var1 / var2\n",
    "    except ZeroDivisionError as e:\n",
    "        print(e)\n",
    "    except TypeError as e:\n",
    "        print(e)\n",
    "    return result\n",
    "\n",
    "print(calculate_division(3, 0))\n",
    "print(calculate_division(3, '0'))"
   ]
  },
  {
   "cell_type": "markdown",
   "metadata": {},
   "source": [
    "## Delegation"
   ]
  },
  {
   "cell_type": "markdown",
   "metadata": {},
   "source": [
    "`try-except` can be also in outer scope:"
   ]
  },
  {
   "cell_type": "code",
   "execution_count": 56,
   "metadata": {},
   "outputs": [
    {
     "name": "stdout",
     "output_type": "stream",
     "text": [
      "division by zero\n"
     ]
    }
   ],
   "source": [
    "def calculate_division(var1, var2):\n",
    "    return var1 / var2\n",
    "\n",
    "try:\n",
    "    calculate_division(3, 0)\n",
    "except ZeroDivisionError as e:\n",
    "    print(e)\n",
    "except TypeError as e:\n",
    "    print(e)"
   ]
  },
  {
   "cell_type": "code",
   "execution_count": 57,
   "metadata": {},
   "outputs": [
    {
     "name": "stdout",
     "output_type": "stream",
     "text": [
      "division by zero\n"
     ]
    }
   ],
   "source": [
    "def calculate_division(var1, var2):\n",
    "    return var1 / var2\n",
    "\n",
    "def process(var1, var2):\n",
    "    # other computations\n",
    "    return calculate_division(var1, var2) \n",
    "\n",
    "try:\n",
    "    calculate_division(3, 0)\n",
    "except ZeroDivisionError as e:\n",
    "    print(e)\n",
    "except TypeError as e:\n",
    "    print(e)"
   ]
  },
  {
   "cell_type": "markdown",
   "metadata": {},
   "source": [
    "## Raising exceptions"
   ]
  },
  {
   "cell_type": "markdown",
   "metadata": {},
   "source": [
    "We can use the *raise* keyword to throw an exception if a condition occurs. The statement can be complemented with a custom exception. Using standard exceptions is nevertheless preferred. Refer to [https://docs.python.org/3/library/exceptions.html](https://docs.python.org/3/library/exceptions.html) for the full taxonomy of exceptions."
   ]
  },
  {
   "cell_type": "code",
   "execution_count": 70,
   "metadata": {},
   "outputs": [
    {
     "name": "stdout",
     "output_type": "stream",
     "text": [
      "type error\n"
     ]
    }
   ],
   "source": [
    "def calculate_division(var1, var2):\n",
    "    result = 0.0\n",
    "    \n",
    "    try:\n",
    "        result = var1 / var2\n",
    "    except ZeroDivisionError:\n",
    "        raise ValueError('Zero-division error')\n",
    "    except TypeError:\n",
    "        raise ValueError('Type error')\n",
    "    return result\n",
    "\n",
    "try:\n",
    "    calculate_division(2, '3')\n",
    "except ValueError as e:\n",
    "    print(e)"
   ]
  },
  {
   "cell_type": "markdown",
   "metadata": {},
   "source": [
    "## try - except - else"
   ]
  },
  {
   "cell_type": "markdown",
   "metadata": {},
   "source": [
    "The optional *else* clause is executed if and when control flows off the end of the try clause.\n",
    "Control *flows off the end* except in the case of an exception or the execution of a return, continue, or break statement."
   ]
  },
  {
   "cell_type": "code",
   "execution_count": 73,
   "metadata": {},
   "outputs": [],
   "source": [
    "def calculate_division(var1, var2):\n",
    "    return var1 / var2"
   ]
  },
  {
   "cell_type": "code",
   "execution_count": 77,
   "metadata": {},
   "outputs": [
    {
     "name": "stdout",
     "output_type": "stream",
     "text": [
      "Something happened!\n"
     ]
    }
   ],
   "source": [
    "# Don't do this!\n",
    "exception_occured = False\n",
    "try:\n",
    "    calculate_division(1, 0)\n",
    "except ZeroDivisionError:\n",
    "    exception_occured = True\n",
    "except TypeError:\n",
    "    exception_occured = True\n",
    "    \n",
    "if not exception_occured:\n",
    "    print('All went well!')\n",
    "else:\n",
    "    print('Something happened!')"
   ]
  },
  {
   "cell_type": "code",
   "execution_count": 76,
   "metadata": {},
   "outputs": [
    {
     "name": "stdout",
     "output_type": "stream",
     "text": [
      "Something happened!\n"
     ]
    }
   ],
   "source": [
    "# Do this!\n",
    "try:\n",
    "    calculate_division(1, 0)\n",
    "except ZeroDivisionError:\n",
    "    print('Something happened!')\n",
    "except TypeError:\n",
    "    print('Something happened!')\n",
    "else:\n",
    "    print('All went well!')"
   ]
  },
  {
   "cell_type": "markdown",
   "metadata": {},
   "source": [
    "## try - except - finally\n",
    "For scenarios where you want to do something always, even when there are exceptions. A *finally* clause is always executed before leaving the try statement, whether an exception has occurred or not. When an exception has occurred in the try clause and has not been handled by an except clause (or it has occurred in a except or else clause), it is re-raised after the finally clause has been executed. The finally clause is also executed *on the way out* when any other clause of the try statement is left via a break, continue or return statement. \n",
    "\n",
    "You can also have `try`-`except`-`else`-`finally` structure. In cases where exception is not raised inside `try`, `else` will be executed before `finally`. If there is an expection, `else` block is not executed."
   ]
  },
  {
   "cell_type": "code",
   "execution_count": 81,
   "metadata": {},
   "outputs": [
    {
     "name": "stdout",
     "output_type": "stream",
     "text": [
      "All went well!\n",
      "Always do it!\n"
     ]
    }
   ],
   "source": [
    "def calculate_division(var1, var2):\n",
    "    return var1 / var2\n",
    "\n",
    "try:\n",
    "    calculate_division(1, 2)\n",
    "except ZeroDivisionError:\n",
    "    print('Something happened!')\n",
    "except TypeError:\n",
    "    print('Something happened!')\n",
    "else:\n",
    "    print('All went well!')\n",
    "finally:\n",
    "    print('Always do it!')"
   ]
  },
  {
   "cell_type": "markdown",
   "metadata": {},
   "source": [
    "## Summarizing\n",
    "![alt](images/exceptions.png)"
   ]
  },
  {
   "cell_type": "markdown",
   "metadata": {},
   "source": [
    "# File I/O"
   ]
  },
  {
   "cell_type": "markdown",
   "metadata": {},
   "source": [
    "## Working with paths"
   ]
  },
  {
   "cell_type": "code",
   "execution_count": 109,
   "metadata": {},
   "outputs": [
    {
     "name": "stdout",
     "output_type": "stream",
     "text": [
      "file: /Volumes/GoogleDrive/My Drive/Unimore/Didattica/ooprogramming/python/slides/01 - Python Basics.ipynb\n",
      "directory: /Volumes/GoogleDrive/My Drive/Unimore/Didattica/ooprogramming/python/slides\n",
      "data: /Volumes/GoogleDrive/My Drive/Unimore/Didattica/ooprogramming/python/slides/resources\n"
     ]
    }
   ],
   "source": [
    "import os\n",
    "\n",
    "current_file = os.path.realpath('01 - Python Basics.ipynb')  \n",
    "print('file: {}'.format(current_file))\n",
    "\n",
    "current_dir = os.path.dirname(current_file)  \n",
    "print('directory: {}'.format(current_dir))\n",
    "\n",
    "data_dir = os.path.join(current_dir, 'resources')\n",
    "print('data: {}'.format(data_dir))"
   ]
  },
  {
   "cell_type": "markdown",
   "metadata": {},
   "source": [
    "## Checking paths"
   ]
  },
  {
   "cell_type": "code",
   "execution_count": 110,
   "metadata": {},
   "outputs": [
    {
     "name": "stdout",
     "output_type": "stream",
     "text": [
      "exists: True\n",
      "is file: False\n",
      "is directory: True\n"
     ]
    }
   ],
   "source": [
    "print('exists: {}'.format(os.path.exists(current_dir)))\n",
    "print('is file: {}'.format(os.path.isfile(current_dir)))\n",
    "print('is directory: {}'.format(os.path.isdir(current_dir)))"
   ]
  },
  {
   "cell_type": "markdown",
   "metadata": {},
   "source": [
    "## Reading files"
   ]
  },
  {
   "cell_type": "markdown",
   "metadata": {},
   "source": [
    "The [`with`](https://docs.python.org/3/reference/compound_stmts.html#the-with-statement) statement is for obtaining a [context manager](https://docs.python.org/3/reference/datamodel.html#with-statement-context-managers) that will be used as an execution context for the commands inside the `with`. Context managers guarantee that certain operations are done when exiting the context. \n",
    "\n",
    "In this case, the context manager guarantees that `file_path.close()` is implicitly called when exiting the context. This is a way to make developers life easier: you don't have to remember to explicitly close the file you openened nor be worried about an exception occuring while the file is open. Unclosed files maybe a source of a resource leak. Thus, prefer using `with open()` structure when working with I/O."
   ]
  },
  {
   "cell_type": "code",
   "execution_count": 111,
   "metadata": {},
   "outputs": [
    {
     "name": "stdout",
     "output_type": "stream",
     "text": [
      "BMW, M3, 120\n",
      "Toyota, Supra, 130\n",
      "Nissan, GTR, 140\n"
     ]
    }
   ],
   "source": [
    "# Don't do this!\n",
    "file_path = os.path.join(data_dir, 'cars.txt')\n",
    "simple_file = open(file_path, 'r')\n",
    "\n",
    "for line in simple_file:\n",
    "    print(line.strip())\n",
    "simple_file.close()  # This has to be called explicitly "
   ]
  },
  {
   "cell_type": "code",
   "execution_count": 112,
   "metadata": {},
   "outputs": [
    {
     "name": "stdout",
     "output_type": "stream",
     "text": [
      "BMW, M3, 120\n",
      "Toyota, Supra, 130\n",
      "Nissan, GTR, 140\n"
     ]
    }
   ],
   "source": [
    "# Do this!\n",
    "file_path = os.path.join(data_dir, 'cars.txt')\n",
    "\n",
    "with open(file_path, 'r') as simple_file:\n",
    "    for line in simple_file:\n",
    "        print(line.strip())"
   ]
  },
  {
   "cell_type": "markdown",
   "metadata": {},
   "source": [
    "## Writing files"
   ]
  },
  {
   "cell_type": "code",
   "execution_count": 113,
   "metadata": {},
   "outputs": [],
   "source": [
    "new_file_path = os.path.join(data_dir, 'new_file.txt')\n",
    "\n",
    "with open(new_file_path, 'w') as my_file:\n",
    "    my_file.write('This is my first file that I wrote with Python.')"
   ]
  },
  {
   "cell_type": "markdown",
   "metadata": {},
   "source": [
    "Now go and check that there is a new_file.txt in the data directory. After that you can delete the file by:"
   ]
  },
  {
   "cell_type": "code",
   "execution_count": 114,
   "metadata": {},
   "outputs": [],
   "source": [
    "if os.path.exists(new_file_path):  # make sure it's there\n",
    "    os.remove(new_file_path)"
   ]
  },
  {
   "cell_type": "markdown",
   "metadata": {},
   "source": [
    "# Comments\n",
    "\n",
    "As you begin to write more complicated code, you will have to spend more time thinking about how to code solutions to the problems you want to solve. Once you come up with an idea, you will spend a fair amount of time troubleshooting your code, and revising your overall approach.\n",
    "\n",
    "Comments allow you to write within your program. In Python, any line that starts with a pound (#) symbol is ignored by the Python interpreter."
   ]
  },
  {
   "cell_type": "code",
   "execution_count": 115,
   "metadata": {
    "collapsed": false,
    "jupyter": {
     "outputs_hidden": false
    }
   },
   "outputs": [
    {
     "name": "stdout",
     "output_type": "stream",
     "text": [
      "This line is not a comment, it is code.\n"
     ]
    }
   ],
   "source": [
    "# This line is a comment.\n",
    "print('This line is not a comment, it is code.')"
   ]
  },
  {
   "cell_type": "markdown",
   "metadata": {},
   "source": [
    "## Docstring\n",
    "Docstring is a short for documentation string.\n",
    "Python docstrings are the string literals that appear right after the definition of a function, method, class, or module. Triple quotes are used.\n",
    "The docstring is available as the __doc__ attribute of the function.\n",
    "*Although optional, documentation is a key programming practice.*"
   ]
  },
  {
   "cell_type": "code",
   "execution_count": 116,
   "metadata": {},
   "outputs": [
    {
     "name": "stdout",
     "output_type": "stream",
     "text": [
      "\n",
      "    This function greets to the \n",
      "    person passed in as a parameter\n",
      "    \n"
     ]
    }
   ],
   "source": [
    "def greet(name):\n",
    "    \"\"\"This function greets to the \n",
    "    person passed in as a parameter\n",
    "    \"\"\"\n",
    "    print('Hello! ' + name)\n",
    "\n",
    "print(greet.__doc__)"
   ]
  },
  {
   "cell_type": "markdown",
   "metadata": {},
   "source": [
    "## What makes a good comment?\n",
    "\n",
    "* *It is short and to the point, but a complete thought*. Most comments should be written in complete sentences.\n",
    "* It explains your thinking, so that when you return to the code later you will understand how you were approaching the problem. It also helps others working with your code to understand your approach.\n",
    "* It explains particularly difficult sections of code in detail."
   ]
  },
  {
   "cell_type": "markdown",
   "metadata": {},
   "source": [
    "## When should you write comments?\n",
    "\n",
    "- When you have to think about code before writing it.\n",
    "- When you are likely to forget later exactly how you were approaching a problem.\n",
    "- When there is more than one way to solve a problem.\n",
    "- When others are unlikely to anticipate your way of thinking about a problem.\n",
    "\n",
    "Writing good comments is one of the clear signs of a good programmer. If you have any real interest in taking programming seriously, start using comments **now**."
   ]
  }
 ],
 "metadata": {
  "kernelspec": {
   "display_name": "Python 3 (ipykernel)",
   "language": "python",
   "name": "python3"
  },
  "language_info": {
   "codemirror_mode": {
    "name": "ipython",
    "version": 3
   },
   "file_extension": ".py",
   "mimetype": "text/x-python",
   "name": "python",
   "nbconvert_exporter": "python",
   "pygments_lexer": "ipython3",
   "version": "3.9.7"
  },
  "toc-autonumbering": true,
  "toc-showmarkdowntxt": false,
  "toc-showtags": false
 },
 "nbformat": 4,
 "nbformat_minor": 4
}
